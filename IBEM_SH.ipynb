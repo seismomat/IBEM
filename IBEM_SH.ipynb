{
 "cells": [
  {
   "cell_type": "code",
   "execution_count": 1,
   "id": "a4b143d5",
   "metadata": {},
   "outputs": [
    {
     "name": "stdout",
     "output_type": "stream",
     "text": [
      "importing Jupyter notebook from SH_module.ipynb\n",
      "importing Jupyter notebook from geometry.ipynb\n",
      "importing Jupyter notebook from utils.ipynb\n"
     ]
    }
   ],
   "source": [
    "from math import pi,exp\n",
    "from math import sqrt as sq\n",
    "import import_ipynb\n",
    "import SH_module as sh\n",
    "from geometry import topography \n",
    "import utils as u\n",
    "import numpy as np\n",
    "from numpy import linalg as la\n",
    "from matplotlib import pyplot as plt"
   ]
  },
  {
   "cell_type": "code",
   "execution_count": 2,
   "id": "8f913593",
   "metadata": {},
   "outputs": [],
   "source": [
    "f = 0.5 # Hertz\n",
    "w = 2*pi*f # rad/s\n",
    "beta = 0.3 # km/s\n",
    "lambd = beta/f # long de onda en kilometros\n",
    "k = w / beta # 1/km\n",
    "rho = 0.3\n",
    "mu = beta**2 * rho # 2nd Lame constant\n",
    "# fuente puntual (antiplana) en\n",
    "XI = (0.5,1)\n",
    "# receptor \n",
    "XX = (1,1)"
   ]
  },
  {
   "cell_type": "code",
   "execution_count": 3,
   "id": "b8b4d141",
   "metadata": {},
   "outputs": [
    {
     "name": "stdout",
     "output_type": "stream",
     "text": [
      "En la frecuencia 0.5 Hz, \\lambda = 0.6 km\n"
     ]
    }
   ],
   "source": [
    "print(f\"En la frecuencia {f} Hz, \\lambda = {lambd} km\")"
   ]
  },
  {
   "cell_type": "code",
   "execution_count": 4,
   "id": "2cc2785f",
   "metadata": {},
   "outputs": [
    {
     "data": {
      "image/png": "[encoded data removed]",
      "text/plain": [
       "<Figure size 432x288 with 1 Axes>"
      ]
     },
     "metadata": {
      "needs_background": "light"
     },
     "output_type": "display_data"
    }
   ],
   "source": [
    "chunk=4; L=1;\n",
    "vert,p_col,norm=topography(L,chunk).get_data()"
   ]
  },
  {
   "cell_type": "code",
   "execution_count": 5,
   "id": "ba56453c",
   "metadata": {},
   "outputs": [
    {
     "data": {
      "text/plain": [
       "array([[-0.,  1.],\n",
       "       [-0.,  1.],\n",
       "       [-0.,  1.]])"
      ]
     },
     "execution_count": 5,
     "metadata": {},
     "output_type": "execute_result"
    }
   ],
   "source": [
    "norm"
   ]
  },
  {
   "cell_type": "markdown",
   "id": "ac472521",
   "metadata": {},
   "source": [
    "$$0.5 \\delta_{ij} \\phi_j(x) + \\int_S \\phi_j(x) T_{ij} (x,\\xi) dS_\\xi ) = -t_i^{(0)} (x)$$"
   ]
  },
  {
   "cell_type": "code",
   "execution_count": 6,
   "id": "0527a4f8",
   "metadata": {},
   "outputs": [
    {
     "name": "stdout",
     "output_type": "stream",
     "text": [
      "T de tamaño (3, 3)\n"
     ]
    }
   ],
   "source": [
    "# para cada punto de colocacion (renglon), la integral de las fuentes sobre la superficie\n",
    "T=np.zeros([len(p_col),len(p_col)])\n",
    "T = T + 0j*T\n",
    "print(f\"T de tamaño {T.shape}\")\n",
    "for i_x in range(len(p_col)):\n",
    "    for i_xi in range(len(p_col)):\n",
    "        if u.Kron(i_x,i_xi)==1:\n",
    "            T[i_x,i_xi]=0.5+0j\n",
    "        else:\n",
    "            T[i_x,i_xi]=u.Int_T22_uniforme_en_xi(i_x,i_xi,k,vert,p_col,norm)"
   ]
  },
  {
   "cell_type": "code",
   "execution_count": 7,
   "id": "d52fb86e",
   "metadata": {},
   "outputs": [
    {
     "name": "stdout",
     "output_type": "stream",
     "text": [
      "B de tamaño (3, 1)\n"
     ]
    }
   ],
   "source": [
    "# fuente\n",
    "Fue=np.zeros([len(p_col),1])\n",
    "Fue = Fue + 0j*Fue\n",
    "print(f\"B de tamaño {Fue.shape}\")\n",
    "for i_x in range(len(p_col)):\n",
    "    Fue[i_x]=sh.T22(k, p_col[i_x,:], XI, norm[i_x,:])"
   ]
  },
  {
   "cell_type": "code",
   "execution_count": 8,
   "id": "f2899b3c",
   "metadata": {},
   "outputs": [
    {
     "data": {
      "text/plain": [
       "array([[0.5+0.j, 0. +0.j, 0. +0.j],\n",
       "       [0. +0.j, 0.5+0.j, 0. +0.j],\n",
       "       [0. +0.j, 0. +0.j, 0.5+0.j]])"
      ]
     },
     "execution_count": 8,
     "metadata": {},
     "output_type": "execute_result"
    }
   ],
   "source": [
    "T"
   ]
  },
  {
   "cell_type": "code",
   "execution_count": 9,
   "id": "f0f548d2",
   "metadata": {},
   "outputs": [
    {
     "data": {
      "text/plain": [
       "array([[-0.38878721+0.45352782j],\n",
       "       [-0.61819347+0.18951674j],\n",
       "       [-0.38878721+0.45352782j]])"
      ]
     },
     "execution_count": 9,
     "metadata": {},
     "output_type": "execute_result"
    }
   ],
   "source": [
    "Fue"
   ]
  },
  {
   "cell_type": "code",
   "execution_count": 10,
   "id": "9d410758",
   "metadata": {},
   "outputs": [],
   "source": [
    "# encontrar amplitudes phi de la densidad de fuerza: phi dS\n",
    "phi = np.linalg.solve(T,Fue)"
   ]
  },
  {
   "cell_type": "code",
   "execution_count": 11,
   "id": "034f477f",
   "metadata": {},
   "outputs": [
    {
     "data": {
      "text/plain": [
       "array([[-0.77757442+0.90705564j],\n",
       "       [-1.23638694+0.37903348j],\n",
       "       [-0.77757442+0.90705564j]])"
      ]
     },
     "execution_count": 11,
     "metadata": {},
     "output_type": "execute_result"
    }
   ],
   "source": [
    "phi"
   ]
  },
  {
   "cell_type": "code",
   "execution_count": 12,
   "id": "bfc9953c",
   "metadata": {},
   "outputs": [],
   "source": [
    "# graficar phi\n",
    "phi_gX=[abs(phi[i]) * norm[i,0] for i in range(len(p_col))]\n",
    "phi_gZ=[abs(phi[i]) * norm[i,1] for i in range(len(p_col))]"
   ]
  },
  {
   "cell_type": "code",
   "execution_count": 13,
   "id": "7292f506",
   "metadata": {},
   "outputs": [
    {
     "data": {
      "text/plain": [
       "[array([-0.]), array([-0.]), array([-0.])]"
      ]
     },
     "execution_count": 13,
     "metadata": {},
     "output_type": "execute_result"
    }
   ],
   "source": [
    "phi_gX"
   ]
  },
  {
   "cell_type": "code",
   "execution_count": 14,
   "id": "bbb14252",
   "metadata": {},
   "outputs": [
    {
     "data": {
      "text/plain": [
       "[array([1.19472671]), array([1.29318176]), array([1.19472671])]"
      ]
     },
     "execution_count": 14,
     "metadata": {},
     "output_type": "execute_result"
    }
   ],
   "source": [
    "phi_gZ"
   ]
  },
  {
   "cell_type": "code",
   "execution_count": 15,
   "id": "3ab07504",
   "metadata": {},
   "outputs": [
    {
     "data": {
      "image/png": "[encoded data removed]",
      "text/plain": [
       "<Figure size 432x288 with 1 Axes>"
      ]
     },
     "metadata": {
      "needs_background": "light"
     },
     "output_type": "display_data"
    }
   ],
   "source": [
    "plt.plot(vert[:,0],vert[:,1],'--rs')\n",
    "plt.plot(p_col[:,0],p_col[:,1],'b*')\n",
    "plt.quiver(p_col[:,0],p_col[:,1],phi_gX,phi_gZ)\n",
    "plt.scatter(p_col[:,0],phi_gZ,color='black')\n",
    "plt.plot(XI[0],XI[1],'bD')# fuente\n",
    "plt.plot(XX[0],XX[1],'gv')# receptor\n",
    "plt.show()"
   ]
  },
  {
   "cell_type": "code",
   "execution_count": 16,
   "id": "2cf187b0",
   "metadata": {},
   "outputs": [
    {
     "name": "stdout",
     "output_type": "stream",
     "text": [
      "En (1, 1), V = [-0.04664576+1.67624101j]\n"
     ]
    }
   ],
   "source": [
    "# ahora para construir la solucion en un observador cualquiera se hace\n",
    "\n",
    "V = sh.G22(k,XX,XI,beta,rho)\n",
    "for i_xi in range(len(p_col)):\n",
    "    V+=phi[i_xi]*sh.G22(k,XX,p_col[i_xi,:],beta,rho)\n",
    "\n",
    "print(f\"En {XX}, V = {V}\")"
   ]
  },
  {
   "cell_type": "code",
   "execution_count": null,
   "id": "8bf52935",
   "metadata": {},
   "outputs": [],
   "source": []
  }
 ],
 "metadata": {
  "kernelspec": {
   "display_name": "Python 3 (ipykernel)",
   "language": "python",
   "name": "python3"
  },
  "language_info": {
   "codemirror_mode": {
    "name": "ipython",
    "version": 3
   },
   "file_extension": ".py",
   "mimetype": "text/x-python",
   "name": "python",
   "nbconvert_exporter": "python",
   "pygments_lexer": "ipython3",
   "version": "3.9.12"
  }
 },
 "nbformat": 4,
 "nbformat_minor": 5
}
