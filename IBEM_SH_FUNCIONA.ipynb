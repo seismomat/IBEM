{
  "nbformat": 4,
  "nbformat_minor": 0,
  "metadata": {
    "colab": {
      "provenance": [],
      "authorship_tag": "ABX9TyMm89+jEXAGFUsg6sgJEtCe",
      "include_colab_link": true
    },
    "kernelspec": {
      "name": "python3",
      "display_name": "Python 3"
    },
    "language_info": {
      "name": "python"
    }
  },
  "cells": [
    {
      "cell_type": "markdown",
      "metadata": {
        "id": "view-in-github",
        "colab_type": "text"
      },
      "source": [
        "<a href=\"https://colab.research.google.com/github/seismomat/IBEM/blob/Lili/IBEM_SH_FUNCIONA.ipynb\" target=\"_parent\"><img src=\"https://colab.research.google.com/assets/colab-badge.svg\" alt=\"Open In Colab\"/></a>"
      ]
    },
    {
      "cell_type": "code",
      "source": [
        "import math\n",
        "import scipy.special as scis\n",
        "import numpy as np\n",
        "from numpy import linalg as la\n",
        "from matplotlib import pyplot as plt"
      ],
      "metadata": {
        "id": "z_G88ikNGv5R"
      },
      "execution_count": 1,
      "outputs": []
    },
    {
      "cell_type": "code",
      "source": [
        "#Función T22:\n",
        "def T22(k,x,xi,normal):\n",
        "    r= la.norm(x-xi)\n",
        "    D = k*r * scis.hankel2(1,k*r)\n",
        "    g_n=(x[0]-xi[0])/r * normal[0] + (x[1]-xi[1])/r * normal[1]\n",
        "    return 1j/(4*r) * D * g_n"
      ],
      "metadata": {
        "id": "7WJtcJbQGyiY"
      },
      "execution_count": 2,
      "outputs": []
    },
    {
      "cell_type": "code",
      "source": [
        "#Definición de parámetros del problema:\n",
        "f = 0.5\n",
        "w = 2*np.pi*f\n",
        "beta = 0.3\n",
        "lambd = beta/f\n",
        "k = w / beta\n",
        "rho = 0.3\n",
        "\n",
        "# Ubicación de la Fuente\n",
        "Fuente = np.array([1,-1])\n"
      ],
      "metadata": {
        "id": "12EWaXrUHCtK"
      },
      "execution_count": 3,
      "outputs": []
    },
    {
      "cell_type": "code",
      "source": [
        "\n",
        "#División de segmentos:\n",
        "ns=4 #número de segmentos\n",
        "segmento=np.zeros((ns+1,2))\n",
        "segmento[:,0]=np.linspace(0,2,ns+1)\n",
        "\n",
        "#Puntos medios:\n",
        "dx=segmento[1,0]-segmento[0,0]\n",
        "\n",
        "xp=np.zeros((ns,2))\n",
        "xp[:,0]=segmento[:-1,0]+dx/2"
      ],
      "metadata": {
        "id": "wWXTk2DnHLpF"
      },
      "execution_count": 4,
      "outputs": []
    },
    {
      "cell_type": "code",
      "source": [
        "#Gráfica de geometría:\n",
        "\n",
        "plt.plot(segmento[:,0],segmento[:,1],marker = '|')\n",
        "plt.plot(xp[0:ns,0],xp[0:ns,1],'o')\n",
        "plt.plot(Fuente[0],Fuente[1],marker = '*')\n",
        "\n",
        "plt.xlabel('Distancia x')\n",
        "\n",
        "plt.show()"
      ],
      "metadata": {
        "colab": {
          "base_uri": "https://localhost:8080/",
          "height": 449
        },
        "id": "f4j7HA_DPMZf",
        "outputId": "8919f90e-c3ab-4dae-be00-596e6b542c92"
      },
      "execution_count": 5,
      "outputs": [
        {
          "output_type": "display_data",
          "data": {
            "text/plain": [
              "<Figure size 640x480 with 1 Axes>"
            ],
            "image/png": "[encoded data removed]"
          },
          "metadata": {}
        }
      ]
    },
    {
      "cell_type": "code",
      "source": [
        "\n",
        "#Vectores normales:\n",
        "AB=segmento[1:]-segmento[:-1] #Diferencia\n",
        "nor=AB[:,0] #Para obtener unitario\n",
        "normal=AB*0 #Auxiliar\n",
        "normal[:,0]=-AB[:,1]/nor\n",
        "normal[:,1]=AB[:,0]/nor\n",
        "print(normal)\n"
      ],
      "metadata": {
        "colab": {
          "base_uri": "https://localhost:8080/"
        },
        "id": "6HTCEpDeHgGP",
        "outputId": "c0c9cbb2-ceaf-4538-b587-d9f46f2d7d79"
      },
      "execution_count": 6,
      "outputs": [
        {
          "output_type": "stream",
          "name": "stdout",
          "text": [
            "[[-0.  1.]\n",
            " [-0.  1.]\n",
            " [-0.  1.]\n",
            " [-0.  1.]]\n"
          ]
        }
      ]
    },
    {
      "cell_type": "code",
      "source": [
        "#Integración Gaussiana de T22\n",
        "def Int_T22(n,l,k,segmento,xp,normal):\n",
        "    #Para 5 puntos:\n",
        "    nodos = [-0.906179845938664, -0.538469310105683,0, 0.538469310105683, 0.906179845938664]\n",
        "    pesos = [0.236926885056189, 0.478628670499366, 0.568888888888889, 0.478628670499366, 0.236926885056189]\n",
        "\n",
        "    #Para x\n",
        "    b=segmento[l,0]\n",
        "    a=segmento[l+1,0]\n",
        "    xi_x_nodo = []  # Crear una lista vacía para almacenar los resultados\n",
        "    for nodo in nodos:\n",
        "      resultado = (b - a) / 2 * nodo + (a + b) / 2  # Calcula el resultado para cada valo\n",
        "      xi_x_nodo.append(resultado)\n",
        "\n",
        "    #Para z\n",
        "    b=segmento[l,1]\n",
        "    a=segmento[l+1,1]\n",
        "    xi_z_nodo = []\n",
        "    for nodo in nodos:\n",
        "      resultado = (b - a) / 2 * nodo + (a + b) / 2  # Calcula el resultado para cada valor\n",
        "      xi_z_nodo.append(resultado)\n",
        "\n",
        "    Xi_nodo = []  # Crear una lista vacía para almacenar las listas\n",
        "    for i in range(len(nodos)):\n",
        "      sublista = [xi_x_nodo[i], xi_z_nodo[i]]  # Crea la sublista\n",
        "      Xi_nodo.append(sublista)  # Agrega la sublista a la lista\n",
        "\n",
        "    Xi_nodo = np.array(Xi_nodo)\n",
        "\n",
        "    L=la.norm(segmento[l]-segmento[n])\n",
        "    Int=0.0\n",
        "    for i in range(len(nodos)):\n",
        "        Int += L/2 * pesos[i]*T22(k,xp[n],Xi_nodo[i],normal[n])\n",
        "    return Int"
      ],
      "metadata": {
        "id": "gjonsf_qHlYu"
      },
      "execution_count": 7,
      "outputs": []
    },
    {
      "cell_type": "markdown",
      "source": [
        "El sistema que se va a hacer es:\n",
        "\n",
        "\\begin{equation}\n",
        "  \\begin{bmatrix}\n",
        "    t_{22}(x_1,ξ_1) & t_{22}(x_1,ξ_2) & t_{22}(x_1,ξ_{3}) \\\\\n",
        "    t_{22}(x_2,ξ_1) & t_{22}(x_2,ξ_2) & t_{22}(x_2,ξ_{3}) \\\\\n",
        "    t_{22}(x_{3},ξ_1) & t_{22}(x_{3},ξ_2) & t_{22}(x_{3},ξ_{3})\n",
        "  \\end{bmatrix}\n",
        "  \\begin{bmatrix}\n",
        "    ϕ_2(\\xi_1) \\\\\n",
        "    ϕ_2(\\xi_2) \\\\\n",
        "    ϕ_2(\\xi_{3})\n",
        "  \\end{bmatrix}\n",
        "  =\n",
        "  \\begin{bmatrix}\n",
        "    -t_2^{(0)}(x_1) \\\\\n",
        "    -t_2^{(0)}(x_2) \\\\\n",
        "    -t_2^{(0)}(x_{3})\n",
        "  \\end{bmatrix}\n",
        "\\end{equation}\n",
        "\n",
        "Cada $t_{22}$ se construye como:\n",
        "\n",
        "\\begin{equation}\n",
        "  \\int_{ξ-\\frac{(x_2-x_1)}{2}}^{ξ+\\frac{(x_2-x_1)}{2}} T_{22}(x,\\xi)dS_ξ\n",
        "\\end{equation}\n",
        "\n",
        "siendo $T_{22}$:\n",
        "\n",
        "\\begin{equation}\n",
        "  T_{22}=\\frac{i}{4r}D(kr) γ_k η_k\n",
        "\\end{equation}"
      ],
      "metadata": {
        "id": "2dhlvEoIdwD-"
      }
    },
    {
      "cell_type": "code",
      "source": [
        "#Construcción de matriz de tracciones:\n",
        "M22=np.zeros([ns,ns])\n",
        "M22 = M22 + 0j*M22\n",
        "\n",
        "for n in range(ns):\n",
        "    for l in range(ns):\n",
        "        if n==l:\n",
        "            M22[n,l]=0.5+0j\n",
        "        else:\n",
        "            M22[n,l]=Int_T22(n,l,k,segmento,xp,normal)\n",
        "\n",
        "print(M22)"
      ],
      "metadata": {
        "colab": {
          "base_uri": "https://localhost:8080/"
        },
        "id": "x8fzxaEDHpSK",
        "outputId": "6d88c274-6e0f-41bc-f9b5-3e951675e8d6"
      },
      "execution_count": 8,
      "outputs": [
        {
          "output_type": "stream",
          "name": "stdout",
          "text": [
            "[[0.5+0.j 0. +0.j 0. +0.j 0. +0.j]\n",
            " [0. +0.j 0.5+0.j 0. +0.j 0. +0.j]\n",
            " [0. +0.j 0. +0.j 0.5+0.j 0. +0.j]\n",
            " [0. +0.j 0. +0.j 0. +0.j 0.5+0.j]]\n"
          ]
        }
      ]
    },
    {
      "cell_type": "markdown",
      "source": [
        "Calculo de $t_2^{(0)}$:\n",
        "\n",
        "\\begin{equation}\n",
        "  T_{22}(x_1,x_R)\n",
        "\\end{equation}\n",
        "\n",
        "El vector queda como:\n",
        "\n",
        "\\begin{equation}\n",
        "  \\begin{bmatrix}\n",
        "    -T_{22}(x_1,x_R) \\\\\n",
        "    -T_{22}(x_2,x_R) \\\\\n",
        "    -T_{22}(x_{3},x_R)\n",
        "  \\end{bmatrix}\n",
        "\\end{equation}"
      ],
      "metadata": {
        "id": "aUrBXbZxd5fD"
      }
    },
    {
      "cell_type": "code",
      "source": [
        "#Fuente\n",
        "t2=np.zeros([ns,1])\n",
        "t2 = t2 + 0j*t2\n",
        "for l in range(ns):\n",
        "    t2[l]=-T22(k, xp[l], Fuente, normal[l])\n",
        "\n",
        "print(t2)"
      ],
      "metadata": {
        "colab": {
          "base_uri": "https://localhost:8080/"
        },
        "id": "hY-6JVyWH9HB",
        "outputId": "1fdc23f7-6390-4ddc-d5e8-2b5fdf61a282"
      },
      "execution_count": 9,
      "outputs": [
        {
          "output_type": "stream",
          "name": "stdout",
          "text": [
            "[[ 0.4498643 +0.10686364j]\n",
            " [-0.50327056+0.35830396j]\n",
            " [-0.50327056+0.35830396j]\n",
            " [ 0.4498643 +0.10686364j]]\n"
          ]
        }
      ]
    },
    {
      "cell_type": "code",
      "source": [
        "#Resolviendo el sistema:\n",
        "solucion = np.linalg.solve(M22,t2)\n",
        "print(solucion)"
      ],
      "metadata": {
        "colab": {
          "base_uri": "https://localhost:8080/"
        },
        "id": "PeZO-tjDIClO",
        "outputId": "80e448b6-564f-4a89-ab4f-d9c9088fb2bb"
      },
      "execution_count": 10,
      "outputs": [
        {
          "output_type": "stream",
          "name": "stdout",
          "text": [
            "[[ 0.89972861+0.21372728j]\n",
            " [-1.00654111+0.71660791j]\n",
            " [-1.00654111+0.71660791j]\n",
            " [ 0.89972861+0.21372728j]]\n"
          ]
        }
      ]
    },
    {
      "cell_type": "code",
      "source": [
        "plt.plot(segmento[:,0],segmento[:,1],marker = '|')\n",
        "plt.plot(xp[0:ns,0],xp[0:ns,1],'o')\n",
        "plt.plot(xp[0:ns,0],np.abs(solucion),'o')\n",
        "plt.plot(1,-1,marker = '*')\n",
        "\n",
        "plt.xlabel('Distancia x')\n",
        "\n",
        "plt.show()"
      ],
      "metadata": {
        "colab": {
          "base_uri": "https://localhost:8080/",
          "height": 449
        },
        "id": "_VDbu7cOIMoa",
        "outputId": "99bf2c3e-8b10-4dc5-cd85-212d8df13f4c"
      },
      "execution_count": 11,
      "outputs": [
        {
          "output_type": "display_data",
          "data": {
            "text/plain": [
              "<Figure size 640x480 with 1 Axes>"
            ],
            "image/png": "[encoded data removed]"
          },
          "metadata": {}
        }
      ]
    },
    {
      "cell_type": "code",
      "source": [
        "#Desplazamientos:\n",
        "\n"
      ],
      "metadata": {
        "id": "mPajM1ULeNM8"
      },
      "execution_count": 12,
      "outputs": []
    }
  ]
}