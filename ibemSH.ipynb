{
 "cells": [
  {
   "cell_type": "code",
   "execution_count": 1,
   "metadata": {
    "id": "dOe2GWWCAzWb"
   },
   "outputs": [],
   "source": [
    "import scipy.special as scis\n",
    "from math import pi,exp\n",
    "from math import sqrt as sq\n",
    "import numpy as np\n",
    "from statistics import mean\n",
    "\n",
    "def G22(k,x,xi,beta,rho):\n",
    "    r = r_(x,xi)\n",
    "    return 1/(1j*4*rho) * scis.hankel2(0,k*r)/beta**2\n",
    "\n",
    "def r_(x,xi):\n",
    "    return sq((x[0]-xi[0])**2 + (x[1]-xi[1])**2)\n",
    "\n",
    "def gam_k__n_k(x,xi,ni):\n",
    "    r = r_(x,xi)\n",
    "    return (x[0]-xi[0])/r * ni[0] + (x[1]-xi[1])/r * ni[1]\n",
    "\n",
    "def T22(k,x,xi,ni):\n",
    "    r = r_(x,xi)\n",
    "    D = k*r * scis.hankel2(1,k*r)\n",
    "    return 1j/(4*r) * D * gam_k__n_k(x,xi,ni)\n",
    "\n",
    "def geometria(lambd):\n",
    "    # valle gaussian\n",
    "    long_segmento_aprox = 1/8 * lambd\n",
    "    x = np.arange(-7,7,long_segmento_aprox)\n",
    "    sig = 1.0;    a = 1/(sig*sq(2*pi))\n",
    "    vert = [(xxx,a*exp(-(xxx**2)/(2*sig**2))) for xxx in x]\n",
    "\n",
    "    # puntos de colocacion, vector normal\n",
    "    p_col = []; norm = []\n",
    "    for ii in range(len(vert)-1):\n",
    "        xm = mean([vert[ii][0],vert[ii+1][0]])\n",
    "        zm = mean([vert[ii][1],vert[ii+1][1]])\n",
    "        p_col.append((xm,zm))\n",
    "        r = r_([vert[ii][0],vert[ii][1]],[vert[ii+1][0],vert[ii+1][1]])\n",
    "        v = [(vert[ii+1][0]-vert[ii][0])/r, (vert[ii+1][1]-vert[ii][1])/r]\n",
    "        n = [-v[1],v[0]]\n",
    "        norm.append(n)\n",
    "    return vert,p_col,norm"
   ]
  },
  {
   "cell_type": "code",
   "execution_count": 2,
   "metadata": {
    "colab": {
     "base_uri": "https://localhost:8080/"
    },
    "id": "gXYRY6IVBFBU",
    "outputId": "212ebc0d-e059-4d63-ef3c-78710bcddabe"
   },
   "outputs": [
    {
     "name": "stdout",
     "output_type": "stream",
     "text": [
      "En la frecuencia 0.5 Hz, \\lambda = 0.6 km\n"
     ]
    }
   ],
   "source": [
    "f = 0.5 # Hertz\n",
    "w = 2*pi*f # rad/s\n",
    "beta = 0.3 # km/s\n",
    "lambd = beta/f # long de onda en kilometros\n",
    "k = w / beta # 1/km\n",
    "rho = 0.3\n",
    "mu = beta**2 * rho # 2nd Lame constant\n",
    "# fuente puntual (antiplana) en\n",
    "XI = (0,5)\n",
    "\n",
    "print(f\"En la frecuencia {f} Hz, \\lambda = {lambd} km\")"
   ]
  },
  {
   "cell_type": "code",
   "execution_count": 3,
   "metadata": {
    "colab": {
     "base_uri": "https://localhost:8080/",
     "height": 430
    },
    "id": "EHOGgGaDDf3V",
    "outputId": "5f600da2-f13f-4f4e-c699-322f008b3bcf"
   },
   "outputs": [
    {
     "data": {
      "image/png": "[encoded data removed]",
      "text/plain": [
       "<Figure size 640x480 with 1 Axes>"
      ]
     },
     "metadata": {},
     "output_type": "display_data"
    }
   ],
   "source": [
    "# la geometria\n",
    "vert,p_col,norm = geometria(lambd)\n",
    "\n",
    "from matplotlib import pyplot as plt\n",
    "%matplotlib inline\n",
    "fig = plt.figure(1, figsize=(8, 6), dpi=80, facecolor='w', edgecolor='k'); ax = fig.add_axes([0,0,1,1])\n",
    "ax.plot([v[0] for v in vert],[v[1] for v in vert], 'k-')\n",
    "# puntos de colocacion y normales a cada decimo elemento:\n",
    "ax.plot([v[0] for v in p_col[0::10]],[v[1] for v in p_col[0::10]],'r.')\n",
    "ax.quiver([v[0] for v in p_col[0::10]],[v[1] for v in p_col[0::10]],\n",
    "          [v[0] for v in norm[0::10]],[v[1] for v in norm[0::10]])\n",
    "# la fuente\n",
    "ax.plot(XI[0],XI[1],'b.')\n",
    "ax.set_ylim([-1, 8])\n",
    "ax.invert_yaxis()\n",
    "ax.set_aspect('equal')\n"
   ]
  },
  {
   "cell_type": "code",
   "execution_count": 4,
   "metadata": {
    "id": "7BsVPfc6kacg"
   },
   "outputs": [],
   "source": [
    "def Kron(i,j):\n",
    "  if i==j:\n",
    "    return 1\n",
    "  else:\n",
    "    return 0\n",
    "\n",
    "def Int_T22_uniforme_en_xi(i_x,i_xi,k,vert,p_col,norm):\n",
    "  # i_x y i_xi son indices\n",
    "  if Kron(i_x,i_xi) == 1:\n",
    "    return 0\n",
    "\n",
    "  #para cuadratura de 3 puntos\n",
    "  gau_i=[-0.774597,0,0.774597] # entre -1 y 1\n",
    "  w_i=[0.555556,0.888889,0.555556]\n",
    "\n",
    "  b = vert[i_xi+1][0]\n",
    "  a = vert[i_xi][0]\n",
    "  xi_X_gau_i=[(b-a)/2*gau+(a+b)/2 for gau in gau_i]\n",
    "\n",
    "  b = vert[i_xi+1][1]\n",
    "  a = vert[i_xi][1]\n",
    "  xi_Z_gau_i=[(b-a)/2*gau+(a+b)/2 for gau in gau_i]\n",
    "\n",
    "  Xi_gau=[(xi_X_gau_i[i],xi_Z_gau_i[i]) for i in range(len(gau_i))]\n",
    "\n",
    "  L = r_(vert[i_xi],vert[i_xi+1])\n",
    "  # xi tiene los vertices del segmento\n",
    "  Int=0+0j\n",
    "  for i in range(len(gau_i)):\n",
    "    Int += L/2 * w_i[i]*T22(k,p_col[i_x],Xi_gau[i],norm[i_x])\n",
    "  return Int\n"
   ]
  },
  {
   "cell_type": "markdown",
   "metadata": {
    "id": "yNgad32tkvWU"
   },
   "source": [
    "$0.5 \\delta_{ij} \\phi_j(x) + \\int_S \\phi_j(x) T_{ij} (x,\\xi) dS_\\xi ) = -t_i^{(0)} (x)$"
   ]
  },
  {
   "cell_type": "code",
   "execution_count": 5,
   "metadata": {
    "colab": {
     "base_uri": "https://localhost:8080/"
    },
    "id": "zQlQYeVEzxMJ",
    "outputId": "932b054f-417d-4705-9783-fcebe7bd7f5b"
   },
   "outputs": [
    {
     "name": "stdout",
     "output_type": "stream",
     "text": [
      "A de tamaño (186, 186)\n"
     ]
    }
   ],
   "source": [
    "# para cada punto de colocacion (renglon), la integral de las fuentes sobre la superficie\n",
    "Mat=np.zeros([len(p_col),len(p_col)])\n",
    "Mat = Mat + 0j*Mat\n",
    "print(f\"A de tamaño {Mat.shape}\")\n",
    "for i_x in range(len(p_col)):\n",
    "  for i_xi in range(len(p_col)):\n",
    "    if Kron(i_x,i_xi)==1:\n",
    "      Mat[i_x,i_xi]=0.5+0j\n",
    "    else:\n",
    "      Mat[i_x,i_xi]=Int_T22_uniforme_en_xi(i_x,i_xi,k,vert,p_col,norm)"
   ]
  },
  {
   "cell_type": "code",
   "execution_count": 6,
   "metadata": {
    "colab": {
     "base_uri": "https://localhost:8080/"
    },
    "id": "z5CBsbOe6XVh",
    "outputId": "53839829-272d-46e0-b333-e55e5a657580"
   },
   "outputs": [
    {
     "name": "stdout",
     "output_type": "stream",
     "text": [
      "B de tamaño (186, 1)\n"
     ]
    }
   ],
   "source": [
    "# fuente\n",
    "Fue=np.zeros([len(p_col),1])\n",
    "Fue = Fue + 0j*Fue\n",
    "print(f\"B de tamaño {Fue.shape}\")\n",
    "for i_x in range(len(p_col)):\n",
    "  Fue[i_x]=T22(k, p_col[i_x], XI, norm[i_x])"
   ]
  },
  {
   "cell_type": "code",
   "execution_count": 8,
   "metadata": {
    "id": "JhoV5p_A8oYq"
   },
   "outputs": [],
   "source": [
    "# encontrar amplitudes phi de la densidad de fuerza: phi dS\n",
    "phi = np.linalg.solve(Mat,Fue)"
   ]
  },
  {
   "cell_type": "code",
   "execution_count": 9,
   "metadata": {
    "colab": {
     "base_uri": "https://localhost:8080/",
     "height": 430
    },
    "id": "_LQCg6Mn8-oF",
    "outputId": "a5646bd0-0d73-4a70-88f6-7da741a3d8ca"
   },
   "outputs": [
    {
     "data": {
      "image/png": "[encoded data removed]",
      "text/plain": [
       "<Figure size 640x480 with 1 Axes>"
      ]
     },
     "metadata": {},
     "output_type": "display_data"
    }
   ],
   "source": [
    "# graficar phi\n",
    "phi_gX=[abs(phi[i]) * norm[i][0] for i in range(len(p_col))]\n",
    "phi_gZ=[abs(phi[i]) * norm[i][1] for i in range(len(p_col))]\n",
    "\n",
    "fig = plt.figure(2, figsize=(8, 6), dpi=80, facecolor='w', edgecolor='k'); ax = fig.add_axes([0,0,1,1])\n",
    "ax.plot([v[0] for v in vert],[v[1] for v in vert], 'k-')\n",
    "\n",
    "ax.quiver([v[0] for v in p_col],[v[1] for v in p_col],\n",
    "          phi_gX,phi_gZ)\n",
    "\n",
    "ax.plot(XI[0],XI[1],'b.')\n",
    "ax.set_ylim([-1, 8])\n",
    "ax.invert_yaxis()\n",
    "ax.set_aspect('equal')"
   ]
  },
  {
   "cell_type": "code",
   "execution_count": 10,
   "metadata": {
    "colab": {
     "base_uri": "https://localhost:8080/"
    },
    "id": "ROAIv9RtCAVI",
    "outputId": "df7639cb-d6b6-4e99-f82a-4f6cada26aa4"
   },
   "outputs": [
    {
     "name": "stdout",
     "output_type": "stream",
     "text": [
      "En (2, 3), V = (23.00793952678339-13.659313276884976j)\n"
     ]
    }
   ],
   "source": [
    "# ahora para construir la solucion en un observador cualquiera se hace\n",
    "\n",
    "XX = (2,3)\n",
    "\n",
    "V = G22(k,XX,XI,beta,rho)\n",
    "for i_xi in range(len(p_col)):\n",
    "  V+=G22(k,XX,p_col[i_xi],beta,rho)\n",
    "\n",
    "print(f\"En {XX}, V = {V}\")"
   ]
  },
  {
   "cell_type": "code",
   "execution_count": null,
   "metadata": {},
   "outputs": [],
   "source": []
  }
 ],
 "metadata": {
  "colab": {
   "collapsed_sections": [],
   "name": "ibemSH.ipynb",
   "provenance": []
  },
  "kernelspec": {
   "display_name": "Python 3 (ipykernel)",
   "language": "python",
   "name": "python3"
  },
  "language_info": {
   "codemirror_mode": {
    "name": "ipython",
    "version": 3
   },
   "file_extension": ".py",
   "mimetype": "text/x-python",
   "name": "python",
   "nbconvert_exporter": "python",
   "pygments_lexer": "ipython3",
   "version": "3.9.12"
  }
 },
 "nbformat": 4,
 "nbformat_minor": 1
}
