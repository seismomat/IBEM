{
  "nbformat": 4,
  "nbformat_minor": 0,
  "metadata": {
    "colab": {
      "provenance": []
    },
    "kernelspec": {
      "name": "python3",
      "display_name": "Python 3"
    },
    "language_info": {
      "name": "python"
    }
  },
  "cells": [
    {
      "cell_type": "code",
      "source": [
        "import math\n",
        "import numpy as np\n",
        "import matplotlib.pyplot as plt\n",
        "from numpy import linalg as la\n",
        "import scipy.special as scis\n",
        "from scipy.integrate import fixed_quad"
      ],
      "metadata": {
        "id": "rWn3QMVsTJAC"
      },
      "execution_count": 11,
      "outputs": []
    },
    {
      "cell_type": "code",
      "execution_count": 17,
      "metadata": {
        "id": "cJZEQ5RqMQPd",
        "colab": {
          "base_uri": "https://localhost:8080/"
        },
        "outputId": "1d8e9f19-8311-4257-913f-a9497e0ab2e3"
      },
      "outputs": [
        {
          "output_type": "stream",
          "name": "stdout",
          "text": [
            "[0.  0.2 0.4 0.6 0.8 1.  1.2 1.4 1.6 1.8 2. ]\n"
          ]
        }
      ],
      "source": [
        "#Definición de parámetros del problema:\n",
        "f = 0.5 # Hertz\n",
        "w = 2*np.pi*f # rad/s\n",
        "beta = 0.3 # km/s\n",
        "lambd = beta/f # long de onda en kilometros\n",
        "k = w / beta # 1/km\n",
        "#Longitud total:\n",
        "l=2.7\n",
        "\n",
        "#División de segmentos:\n",
        "x=np.linspace(0,2,11)\n",
        "y=np.zeros(11)\n",
        "\n",
        "#Puntos medios:\n",
        "dx=x[1]-x[0]\n",
        "\n",
        "xp=x+dx/2\n",
        "yp=y\n",
        "\n",
        "#Receptor:\n",
        "xx=2.5\n",
        "yy=0\n",
        "\n",
        "print(x)"
      ]
    },
    {
      "cell_type": "code",
      "source": [
        "#Gráfica de geometría:\n",
        "\n",
        "plt.plot(x,y,marker = '|')\n",
        "plt.plot(xp[0:10],yp[0:10],'o')\n",
        "plt.plot(xx,yy,marker = 'v')\n",
        "\n",
        "plt.xlabel('Distancia x')\n",
        "\n",
        "plt.show()"
      ],
      "metadata": {
        "colab": {
          "base_uri": "https://localhost:8080/",
          "height": 449
        },
        "id": "PjUgOy0SX1nX",
        "outputId": "2bfabc4c-35fb-461f-d60e-6c7cb493cf7a"
      },
      "execution_count": 4,
      "outputs": [
        {
          "output_type": "display_data",
          "data": {
            "text/plain": [
              "<Figure size 640x480 with 1 Axes>"
            ],
            "image/png": "[encoded data removed]"
          },
          "metadata": {}
        }
      ]
    },
    {
      "cell_type": "markdown",
      "source": [
        "El sistema que se va a hacer es:\n",
        "\n",
        "\\begin{equation}\n",
        "  \\begin{bmatrix}\n",
        "    t_{22}(x_1,ξ_1) & t_{22}(x_1,ξ_2) & ⋯ & t_{22}(x_1,ξ_{10}) \\\\\n",
        "    t_{22}(x_2,ξ_1) & t_{22}(x_2,ξ_2) & ⋯ & t_{22}(x_2,ξ_{10}) \\\\\n",
        "    \\vdots & \\vdots & \\vdots & \\vdots \\\\\n",
        "    t_{22}(x_{10},ξ_1) & t_{22}(x_{10},ξ_2) & ⋯ & t_{22}(x_{10},ξ_{10})\n",
        "  \\end{bmatrix}\n",
        "  \\begin{bmatrix}\n",
        "    ϕ_2(\\xi_1) \\\\\n",
        "    ϕ_2(\\xi_2) \\\\\n",
        "    \\vdots \\\\\n",
        "    ϕ_2(\\xi_{10})\n",
        "  \\end{bmatrix}\n",
        "  =\n",
        "  \\begin{bmatrix}\n",
        "    -t_2^{(0)}(x_1) \\\\\n",
        "    -t_2^{(0)}(x_2) \\\\\n",
        "    \\vdots \\\\\n",
        "    -t_2^{(0)}(x_{10})\n",
        "  \\end{bmatrix}\n",
        "\\end{equation}"
      ],
      "metadata": {
        "id": "8jIyB5gCcgoK"
      }
    },
    {
      "cell_type": "markdown",
      "source": [
        "Cada $t_{22}$ se construye como:\n",
        "\n",
        "\\begin{equation}\n",
        "  \\int_{ξ-\\frac{(x_2-x_1)}{2}}^{ξ+\\frac{(x_2-x_1)}{2}} T_{22}(x,\\xi)dS_ξ\n",
        "\\end{equation}\n",
        "\n",
        "siendo $T_{22}$:\n",
        "\n",
        "\\begin{equation}\n",
        "  T_{22}=\\frac{i}{4r}D(kr) γ_k η_k\n",
        "\\end{equation}"
      ],
      "metadata": {
        "id": "6J4OPzNt16Jw"
      }
    },
    {
      "cell_type": "code",
      "source": [
        "#Funciones para calcular Integral:\n",
        "def D(k,r):\n",
        "  return k*r*scis.hankel2(1,k*r)\n",
        "\n",
        "def Gamma(ix,ixi,r):\n",
        "  return (ix-ixi)/r\n",
        "\n",
        "def Eta(A,B):\n",
        "  AB = B - A\n",
        "  normal = np.array([AB[1], -AB[0]])\n",
        "  normal = normal / la.norm(normal)\n",
        "  return normal\n",
        "\n",
        "def Integral(t2,ix,ixi):\n",
        "  #Límite superior:\n",
        "  a=ixi+((ixi-ix)/2)\n",
        "  #Límite inferior:\n",
        "  b=ixi-((ixi-ix)/2)\n",
        "  fixed_quad(t2, a, b, n=5)\n",
        "\n",
        "def Int_T22(ix,ixi,k,A,B):\n",
        "  r=la.norm(ix-ixi)\n",
        "  t2=(1j/(4*r))*D(k,r)*Gamma(ix,ixi,r)*Eta(A,B)\n",
        "  resultado=Integral(t2,ix,ixi)\n",
        "  return resultado"
      ],
      "metadata": {
        "id": "2HxTbl-O1yE6"
      },
      "execution_count": 9,
      "outputs": []
    },
    {
      "cell_type": "code",
      "source": [
        "#Construcción de matriz de tracciones:\n",
        "\n",
        "#Variable auxiliar t22:\n",
        "t22=np.zeros((10,10))\n",
        "\n",
        "for renglon in range(10):\n",
        "  for columna in range(10):\n",
        "    #Si se encuentra en la diagonal\n",
        "    if renglon==columna:\n",
        "      t22[renglon][columna]=0.5\n",
        "    else:\n",
        "      #Puntos centrales\n",
        "      ix=xp[renglon]\n",
        "      ixi=xp[columna]\n",
        "      #Para vector normal:\n",
        "      A=np.array([x[renglon],y[renglon]])\n",
        "      B=np.array([x[renglon+1],y[renglon+1]])\n",
        "      #t22[renglon][columna]=Int_T22(ix,ixi,k,A,B)\n",
        "\n",
        "print(t22)"
      ],
      "metadata": {
        "colab": {
          "base_uri": "https://localhost:8080/"
        },
        "id": "EweXh6bbelwV",
        "outputId": "f2e21461-5f85-4cb0-fa74-5853cee41e3c"
      },
      "execution_count": 21,
      "outputs": [
        {
          "output_type": "stream",
          "name": "stdout",
          "text": [
            "[[0.5 0.  0.  0.  0.  0.  0.  0.  0.  0. ]\n",
            " [0.  0.5 0.  0.  0.  0.  0.  0.  0.  0. ]\n",
            " [0.  0.  0.5 0.  0.  0.  0.  0.  0.  0. ]\n",
            " [0.  0.  0.  0.5 0.  0.  0.  0.  0.  0. ]\n",
            " [0.  0.  0.  0.  0.5 0.  0.  0.  0.  0. ]\n",
            " [0.  0.  0.  0.  0.  0.5 0.  0.  0.  0. ]\n",
            " [0.  0.  0.  0.  0.  0.  0.5 0.  0.  0. ]\n",
            " [0.  0.  0.  0.  0.  0.  0.  0.5 0.  0. ]\n",
            " [0.  0.  0.  0.  0.  0.  0.  0.  0.5 0. ]\n",
            " [0.  0.  0.  0.  0.  0.  0.  0.  0.  0.5]]\n"
          ]
        }
      ]
    }
  ]
}