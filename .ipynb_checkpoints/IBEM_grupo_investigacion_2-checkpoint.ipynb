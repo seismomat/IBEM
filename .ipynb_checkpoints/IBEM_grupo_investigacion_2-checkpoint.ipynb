{
 "cells": [
  {
   "cell_type": "code",
   "execution_count": 1,
   "id": "6ee02723",
   "metadata": {},
   "outputs": [],
   "source": [
    "import scipy.special as scis\n",
    "import numpy as np\n",
    "from statistics import mean\n",
    "from numpy import linalg as la\n",
    "from matplotlib import pyplot as plt\n",
    "from math import pi,exp\n",
    "from math import sqrt as sq"
   ]
  },
  {
   "cell_type": "code",
   "execution_count": 2,
   "id": "f325ad29",
   "metadata": {},
   "outputs": [],
   "source": [
    "from numba import jit"
   ]
  },
  {
   "cell_type": "code",
   "execution_count": 3,
   "id": "25eaabba",
   "metadata": {},
   "outputs": [],
   "source": [
    "def T22(k,x,xi,ni):\n",
    "    r_ = la.norm(x-xi)\n",
    "    D = k*r_ * scis.hankel2(1,k*r_)\n",
    "    return 1j/(4*r_) * D * gam_k__n_k(x,xi,ni)"
   ]
  },
  {
   "cell_type": "code",
   "execution_count": 4,
   "id": "3ee6f04f",
   "metadata": {},
   "outputs": [],
   "source": [
    "def G22(k,x,xi,beta,rho):\n",
    "    r_ = la.norm(x-xi)\n",
    "    return 1/(1j*4*rho) * scis.hankel2(0,k*r_)/beta**2"
   ]
  },
  {
   "cell_type": "code",
   "execution_count": 5,
   "id": "9b9df4db",
   "metadata": {},
   "outputs": [],
   "source": [
    "def gam_k__n_k(x,xi,ni):\n",
    "    r_ = la.norm(x-xi)\n",
    "    return (x[0]-xi[0])/r_ * ni[0] + (x[1]-xi[1])/r_ * ni[1]"
   ]
  },
  {
   "cell_type": "code",
   "execution_count": 6,
   "id": "64ec5b56",
   "metadata": {},
   "outputs": [],
   "source": [
    "T= 10 # seg\n",
    "N= 256 # armonicos\n",
    "dt=0.01\n",
    "f0=1/T\n",
    "fmax=1/(2*dt)\n",
    "df=1/(N*dt)\n",
    "frec=np.r_[f0:fmax:df]"
   ]
  },
  {
   "cell_type": "code",
   "execution_count": 19,
   "id": "3ef8cc1b",
   "metadata": {},
   "outputs": [
    {
     "data": {
      "text/plain": [
       "(128, 50.0)"
      ]
     },
     "execution_count": 19,
     "metadata": {},
     "output_type": "execute_result"
    }
   ],
   "source": [
    "len(frec),fmax"
   ]
  },
  {
   "cell_type": "code",
   "execution_count": 7,
   "id": "d907b053",
   "metadata": {},
   "outputs": [],
   "source": [
    "w = 2*pi*frec # rad/s\n",
    "beta = 2500 # km/s"
   ]
  },
  {
   "cell_type": "code",
   "execution_count": 8,
   "id": "757f1af9",
   "metadata": {},
   "outputs": [],
   "source": [
    "lambds = beta/frec # long de onda en kilometros\n",
    "ks = w / beta # 1/km\n",
    "rho = 2500\n",
    "mus = beta**2 * rho # 2nd Lame constant"
   ]
  },
  {
   "cell_type": "code",
   "execution_count": 9,
   "id": "b451897f",
   "metadata": {},
   "outputs": [],
   "source": [
    "dxs=lambds/16"
   ]
  },
  {
   "cell_type": "code",
   "execution_count": 10,
   "id": "d65b322c",
   "metadata": {},
   "outputs": [],
   "source": [
    "# fuente puntual (antiplana) en\n",
    "XI = np.array([5000.0,-5.0])\n",
    "# receptor \n",
    "XX =  np.array([5000.0,-2.5])"
   ]
  },
  {
   "cell_type": "code",
   "execution_count": 11,
   "id": "bdcb0849",
   "metadata": {},
   "outputs": [],
   "source": [
    "L=10000;\n",
    "chunks=np.round(L/dxs).astype(int)"
   ]
  },
  {
   "cell_type": "code",
   "execution_count": 12,
   "id": "d848d97a",
   "metadata": {},
   "outputs": [],
   "source": [
    "def malla(chunk):\n",
    "    vert=np.zeros((chunk,2))\n",
    "    vert[:,0]=np.linspace(0,L,chunk)\n",
    "    xis=0.5*(vert[1:]+vert[:-1])\n",
    "    a=vert[1:]-vert[:-1]\n",
    "    norms=la.norm(a,axis=1)\n",
    "    nu=np.zeros_like(a)\n",
    "    nu[:,0]=-a[:,1]/norms\n",
    "    nu[:,1]=a[:,0]/norms\n",
    "    return vert,xis,nu"
   ]
  },
  {
   "cell_type": "code",
   "execution_count": 13,
   "id": "0fdb284f",
   "metadata": {},
   "outputs": [],
   "source": [
    "def Int_T22_uniforme_en_xi(n,l,k,vert,xis,norm):\n",
    "    if n==l:\n",
    "        return 0.0\n",
    "    \n",
    "    gau_i=[-0.774597,0,0.774597]\n",
    "    w_i=[0.555556,0.888889,0.555556]\n",
    "    \n",
    "    b=vert[l,0];a=vert[l+1,0]; \n",
    "    xi_x_gau=[(b-a)/2*gau+(a+b)/2 for gau in gau_i]\n",
    "    \n",
    "    b=vert[l,1];a=vert[l+1,1]; \n",
    "    xi_z_gau=[(b-a)/2*gau+(a+b)/2 for gau in gau_i]\n",
    "    \n",
    "    Xi_gau=[[xi_x_gau[i],xi_z_gau[i]] for i in range(len(gau_i))]\n",
    "    Xi_gau=np.array(Xi_gau)\n",
    "    \n",
    "    L=la.norm(vert[l]-vert[n])\n",
    "    Int=0.0\n",
    "    for i in range(len(gau_i)):\n",
    "        Int += L/2 * w_i[i]*T22(k,xis[n],Xi_gau[i],norm[n])\n",
    "    return Int"
   ]
  },
  {
   "cell_type": "code",
   "execution_count": 14,
   "id": "44691b9f",
   "metadata": {},
   "outputs": [],
   "source": [
    "def Solver(k,vert,xis,nu):\n",
    "    # para cada punto de colocacion (renglon)\n",
    "    #, la integral de las fuentes sobre la superficie\n",
    "    Mat=np.zeros([len(xis),len(xis)])\n",
    "    Mat = Mat + 0j*Mat\n",
    "    for n in range(len(xis)):\n",
    "        for l in range(len(xis)):\n",
    "            if n==l:\n",
    "                Mat[n,l]=0.5+0j\n",
    "            else:\n",
    "                Mat[n,l]=Int_T22_uniforme_en_xi(n,l,k,vert,xis,nu)\n",
    "                \n",
    "                \n",
    "    # fuente\n",
    "    Fue=np.zeros([len(xis),1])\n",
    "    Fue = Fue + 0j*Fue\n",
    "    for l in range(len(xis)):\n",
    "        Fue[l]=T22(k, xis[l], XI, nu[l])\n",
    "        \n",
    "    # encontrar amplitudes phi de la densidad de fuerza: phi dS\n",
    "    phi = np.linalg.solve(Mat,-Fue)\n",
    "    \n",
    "    return phi"
   ]
  },
  {
   "cell_type": "code",
   "execution_count": 15,
   "id": "c265109d",
   "metadata": {},
   "outputs": [],
   "source": [
    "def Desplazamiento_Por_frec(data):\n",
    "    k,vert,xis,nu,XX,beta,rho=data\n",
    "    phi=Solver(k,vert,xis,nu)\n",
    "    V = G22(k,XX,XI,beta,rho)\n",
    "    for i_xi in range(len(xis)):\n",
    "        V+=phi[i_xi]*G22(k,XX,xis[i_xi,:],beta,rho)\n",
    "\n",
    "    #print(f\"En {XX}, V = {V}\")"
   ]
  },
  {
   "cell_type": "code",
   "execution_count": 16,
   "id": "dac02d01",
   "metadata": {},
   "outputs": [],
   "source": [
    "@jit(fastmath=True,forceobj=True)\n",
    "def IBEM(chunks,ks):\n",
    "    espectro=[]\n",
    "    for Iele in range(len(ks)):\n",
    "        vert,xis,nu=malla(chunks[Iele])\n",
    "        datos=(ks[Iele],vert,xis,nu,XX,beta,rho)\n",
    "        espectro.append(Desplazamiento_Por_frec(datos))\n",
    "        \n",
    "    return espectro"
   ]
  },
  {
   "cell_type": "code",
   "execution_count": 17,
   "id": "67ae8ed3",
   "metadata": {},
   "outputs": [
    {
     "ename": "KeyboardInterrupt",
     "evalue": "",
     "output_type": "error",
     "traceback": [
      "\u001b[1;31m---------------------------------------------------------------------------\u001b[0m",
      "\u001b[1;31mKeyboardInterrupt\u001b[0m                         Traceback (most recent call last)",
      "Input \u001b[1;32mIn [17]\u001b[0m, in \u001b[0;36m<cell line: 1>\u001b[1;34m()\u001b[0m\n\u001b[1;32m----> 1\u001b[0m sp\u001b[38;5;241m=\u001b[39m\u001b[43mIBEM\u001b[49m\u001b[43m(\u001b[49m\u001b[43mchunks\u001b[49m\u001b[43m,\u001b[49m\u001b[43mks\u001b[49m\u001b[43m)\u001b[49m\n\u001b[0;32m      2\u001b[0m sp\n",
      "Input \u001b[1;32mIn [15]\u001b[0m, in \u001b[0;36mDesplazamiento_Por_frec\u001b[1;34m(data)\u001b[0m\n\u001b[0;32m      1\u001b[0m \u001b[38;5;28;01mdef\u001b[39;00m \u001b[38;5;21mDesplazamiento_Por_frec\u001b[39m(data):\n\u001b[0;32m      2\u001b[0m     k,vert,xis,nu,XX,beta,rho\u001b[38;5;241m=\u001b[39mdata\n\u001b[1;32m----> 3\u001b[0m     phi\u001b[38;5;241m=\u001b[39m\u001b[43mSolver\u001b[49m\u001b[43m(\u001b[49m\u001b[43mk\u001b[49m\u001b[43m,\u001b[49m\u001b[43mvert\u001b[49m\u001b[43m,\u001b[49m\u001b[43mxis\u001b[49m\u001b[43m,\u001b[49m\u001b[43mnu\u001b[49m\u001b[43m)\u001b[49m\n\u001b[0;32m      4\u001b[0m     V \u001b[38;5;241m=\u001b[39m G22(k,XX,XI,beta,rho)\n\u001b[0;32m      5\u001b[0m     \u001b[38;5;28;01mfor\u001b[39;00m i_xi \u001b[38;5;129;01min\u001b[39;00m \u001b[38;5;28mrange\u001b[39m(\u001b[38;5;28mlen\u001b[39m(xis)):\n",
      "Input \u001b[1;32mIn [14]\u001b[0m, in \u001b[0;36mSolver\u001b[1;34m(k, vert, xis, nu)\u001b[0m\n\u001b[0;32m      9\u001b[0m             Mat[n,l]\u001b[38;5;241m=\u001b[39m\u001b[38;5;241m0.5\u001b[39m\u001b[38;5;241m+\u001b[39m\u001b[38;5;241m0\u001b[39mj\n\u001b[0;32m     10\u001b[0m         \u001b[38;5;28;01melse\u001b[39;00m:\n\u001b[1;32m---> 11\u001b[0m             Mat[n,l]\u001b[38;5;241m=\u001b[39m\u001b[43mInt_T22_uniforme_en_xi\u001b[49m\u001b[43m(\u001b[49m\u001b[43mn\u001b[49m\u001b[43m,\u001b[49m\u001b[43ml\u001b[49m\u001b[43m,\u001b[49m\u001b[43mk\u001b[49m\u001b[43m,\u001b[49m\u001b[43mvert\u001b[49m\u001b[43m,\u001b[49m\u001b[43mxis\u001b[49m\u001b[43m,\u001b[49m\u001b[43mnu\u001b[49m\u001b[43m)\u001b[49m\n\u001b[0;32m     14\u001b[0m \u001b[38;5;66;03m# fuente\u001b[39;00m\n\u001b[0;32m     15\u001b[0m Fue\u001b[38;5;241m=\u001b[39mnp\u001b[38;5;241m.\u001b[39mzeros([\u001b[38;5;28mlen\u001b[39m(xis),\u001b[38;5;241m1\u001b[39m])\n",
      "Input \u001b[1;32mIn [13]\u001b[0m, in \u001b[0;36mInt_T22_uniforme_en_xi\u001b[1;34m(n, l, k, vert, xis, norm)\u001b[0m\n\u001b[0;32m     18\u001b[0m Int\u001b[38;5;241m=\u001b[39m\u001b[38;5;241m0.0\u001b[39m\n\u001b[0;32m     19\u001b[0m \u001b[38;5;28;01mfor\u001b[39;00m i \u001b[38;5;129;01min\u001b[39;00m \u001b[38;5;28mrange\u001b[39m(\u001b[38;5;28mlen\u001b[39m(gau_i)):\n\u001b[1;32m---> 20\u001b[0m     Int \u001b[38;5;241m+\u001b[39m\u001b[38;5;241m=\u001b[39m L\u001b[38;5;241m/\u001b[39m\u001b[38;5;241m2\u001b[39m \u001b[38;5;241m*\u001b[39m w_i[i]\u001b[38;5;241m*\u001b[39m\u001b[43mT22\u001b[49m\u001b[43m(\u001b[49m\u001b[43mk\u001b[49m\u001b[43m,\u001b[49m\u001b[43mxis\u001b[49m\u001b[43m[\u001b[49m\u001b[43mn\u001b[49m\u001b[43m]\u001b[49m\u001b[43m,\u001b[49m\u001b[43mXi_gau\u001b[49m\u001b[43m[\u001b[49m\u001b[43mi\u001b[49m\u001b[43m]\u001b[49m\u001b[43m,\u001b[49m\u001b[43mnorm\u001b[49m\u001b[43m[\u001b[49m\u001b[43mn\u001b[49m\u001b[43m]\u001b[49m\u001b[43m)\u001b[49m\n\u001b[0;32m     21\u001b[0m \u001b[38;5;28;01mreturn\u001b[39;00m Int\n",
      "Input \u001b[1;32mIn [3]\u001b[0m, in \u001b[0;36mT22\u001b[1;34m(k, x, xi, ni)\u001b[0m\n\u001b[0;32m      1\u001b[0m \u001b[38;5;28;01mdef\u001b[39;00m \u001b[38;5;21mT22\u001b[39m(k,x,xi,ni):\n\u001b[1;32m----> 2\u001b[0m     r_ \u001b[38;5;241m=\u001b[39m \u001b[43mla\u001b[49m\u001b[38;5;241;43m.\u001b[39;49m\u001b[43mnorm\u001b[49m\u001b[43m(\u001b[49m\u001b[43mx\u001b[49m\u001b[38;5;241;43m-\u001b[39;49m\u001b[43mxi\u001b[49m\u001b[43m)\u001b[49m\n\u001b[0;32m      3\u001b[0m     D \u001b[38;5;241m=\u001b[39m k\u001b[38;5;241m*\u001b[39mr_ \u001b[38;5;241m*\u001b[39m scis\u001b[38;5;241m.\u001b[39mhankel2(\u001b[38;5;241m1\u001b[39m,k\u001b[38;5;241m*\u001b[39mr_)\n\u001b[0;32m      4\u001b[0m     \u001b[38;5;28;01mreturn\u001b[39;00m \u001b[38;5;241m1\u001b[39mj\u001b[38;5;241m/\u001b[39m(\u001b[38;5;241m4\u001b[39m\u001b[38;5;241m*\u001b[39mr_) \u001b[38;5;241m*\u001b[39m D \u001b[38;5;241m*\u001b[39m gam_k__n_k(x,xi,ni)\n",
      "File \u001b[1;32m<__array_function__ internals>:5\u001b[0m, in \u001b[0;36mnorm\u001b[1;34m(*args, **kwargs)\u001b[0m\n",
      "File \u001b[1;32m~\\anaconda3\\lib\\site-packages\\numpy\\linalg\\linalg.py:2530\u001b[0m, in \u001b[0;36mnorm\u001b[1;34m(x, ord, axis, keepdims)\u001b[0m\n\u001b[0;32m   2528\u001b[0m     sqnorm \u001b[38;5;241m=\u001b[39m dot(x\u001b[38;5;241m.\u001b[39mreal, x\u001b[38;5;241m.\u001b[39mreal) \u001b[38;5;241m+\u001b[39m dot(x\u001b[38;5;241m.\u001b[39mimag, x\u001b[38;5;241m.\u001b[39mimag)\n\u001b[0;32m   2529\u001b[0m \u001b[38;5;28;01melse\u001b[39;00m:\n\u001b[1;32m-> 2530\u001b[0m     sqnorm \u001b[38;5;241m=\u001b[39m \u001b[43mdot\u001b[49m\u001b[43m(\u001b[49m\u001b[43mx\u001b[49m\u001b[43m,\u001b[49m\u001b[43m \u001b[49m\u001b[43mx\u001b[49m\u001b[43m)\u001b[49m\n\u001b[0;32m   2531\u001b[0m ret \u001b[38;5;241m=\u001b[39m sqrt(sqnorm)\n\u001b[0;32m   2532\u001b[0m \u001b[38;5;28;01mif\u001b[39;00m keepdims:\n",
      "File \u001b[1;32m<__array_function__ internals>:5\u001b[0m, in \u001b[0;36mdot\u001b[1;34m(*args, **kwargs)\u001b[0m\n",
      "\u001b[1;31mKeyboardInterrupt\u001b[0m: "
     ]
    }
   ],
   "source": [
    "sp=IBEM(chunks,ks)\n",
    "sp"
   ]
  },
  {
   "cell_type": "code",
   "execution_count": null,
   "id": "b4683daf",
   "metadata": {},
   "outputs": [],
   "source": []
  }
 ],
 "metadata": {
  "kernelspec": {
   "display_name": "Python 3 (ipykernel)",
   "language": "python",
   "name": "python3"
  },
  "language_info": {
   "codemirror_mode": {
    "name": "ipython",
    "version": 3
   },
   "file_extension": ".py",
   "mimetype": "text/x-python",
   "name": "python",
   "nbconvert_exporter": "python",
   "pygments_lexer": "ipython3",
   "version": "3.9.12"
  }
 },
 "nbformat": 4,
 "nbformat_minor": 5
}
