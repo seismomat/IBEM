{
 "cells": [
  {
   "cell_type": "code",
   "execution_count": 1,
   "id": "a4b143d5",
   "metadata": {},
   "outputs": [
    {
     "name": "stdout",
     "output_type": "stream",
     "text": [
      "importing Jupyter notebook from SH_module.ipynb\n",
      "importing Jupyter notebook from geometry.ipynb\n",
      "importing Jupyter notebook from utils.ipynb\n"
     ]
    }
   ],
   "source": [
    "from math import pi,exp\n",
    "from math import sqrt as sq\n",
    "import import_ipynb\n",
    "import SH_module as sh\n",
    "from geometry import topography \n",
    "import utils as u\n",
    "import numpy as np\n",
    "from numpy import linalg as la"
   ]
  },
  {
   "cell_type": "code",
   "execution_count": 2,
   "id": "8f913593",
   "metadata": {},
   "outputs": [],
   "source": [
    "f = 0.5 # Hertz\n",
    "w = 2*pi*f # rad/s\n",
    "beta = 0.3 # km/s\n",
    "lambd = beta/f # long de onda en kilometros\n",
    "k = w / beta # 1/km\n",
    "rho = 0.3\n",
    "mu = beta**2 * rho # 2nd Lame constant\n",
    "# fuente puntual (antiplana) en\n",
    "XI = (0,5)"
   ]
  },
  {
   "cell_type": "code",
   "execution_count": 3,
   "id": "b8b4d141",
   "metadata": {},
   "outputs": [
    {
     "name": "stdout",
     "output_type": "stream",
     "text": [
      "En la frecuencia 0.5 Hz, \\lambda = 0.6 km\n"
     ]
    }
   ],
   "source": [
    "print(f\"En la frecuencia {f} Hz, \\lambda = {lambd} km\")"
   ]
  },
  {
   "cell_type": "code",
   "execution_count": 4,
   "id": "2cc2785f",
   "metadata": {},
   "outputs": [
    {
     "data": {
      "image/png": "[encoded data removed]",
      "text/plain": [
       "<Figure size 432x288 with 1 Axes>"
      ]
     },
     "metadata": {
      "needs_background": "light"
     },
     "output_type": "display_data"
    }
   ],
   "source": [
    "chunk=4; L=1;\n",
    "vert,p_col,norm=topography(L,chunk).get_data()"
   ]
  },
  {
   "cell_type": "code",
   "execution_count": null,
   "id": "ba56453c",
   "metadata": {},
   "outputs": [],
   "source": []
  },
  {
   "cell_type": "markdown",
   "id": "ac472521",
   "metadata": {},
   "source": [
    "$$0.5 \\delta_{ij} \\phi_j(x) + \\int_S \\phi_j(x) T_{ij} (x,\\xi) dS_\\xi ) = -t_i^{(0)} (x)$$"
   ]
  },
  {
   "cell_type": "code",
   "execution_count": 5,
   "id": "0527a4f8",
   "metadata": {},
   "outputs": [
    {
     "name": "stdout",
     "output_type": "stream",
     "text": [
      "T de tamaño (3, 3)\n"
     ]
    }
   ],
   "source": [
    "# para cada punto de colocacion (renglon), la integral de las fuentes sobre la superficie\n",
    "T=np.zeros([len(p_col),len(p_col)])\n",
    "T = T + 0j*T\n",
    "print(f\"T de tamaño {T.shape}\")\n",
    "for i_x in range(len(p_col)):\n",
    "    for i_xi in range(len(p_col)):\n",
    "        if u.Kron(i_x,i_xi)==1:\n",
    "            T[i_x,i_xi]=0.5+0j\n",
    "        else:\n",
    "            T[i_x,i_xi]=1.0;#Int_T22_uniforme_en_xi(i_x,i_xi,k,vert,p_col,norm)"
   ]
  },
  {
   "cell_type": "code",
   "execution_count": null,
   "id": "d52fb86e",
   "metadata": {},
   "outputs": [],
   "source": []
  }
 ],
 "metadata": {
  "kernelspec": {
   "display_name": "Python 3 (ipykernel)",
   "language": "python",
   "name": "python3"
  },
  "language_info": {
   "codemirror_mode": {
    "name": "ipython",
    "version": 3
   },
   "file_extension": ".py",
   "mimetype": "text/x-python",
   "name": "python",
   "nbconvert_exporter": "python",
   "pygments_lexer": "ipython3",
   "version": "3.9.12"
  }
 },
 "nbformat": 4,
 "nbformat_minor": 5
}
