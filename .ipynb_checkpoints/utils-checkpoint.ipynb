{
 "cells": [
  {
   "cell_type": "code",
   "execution_count": 1,
   "id": "77d5ec69",
   "metadata": {},
   "outputs": [
    {
     "name": "stdout",
     "output_type": "stream",
     "text": [
      "importing Jupyter notebook from SH_module.ipynb\n"
     ]
    }
   ],
   "source": [
    "import numpy as np\n",
    "import import_ipynb\n",
    "import SH_module as sh"
   ]
  },
  {
   "cell_type": "code",
   "execution_count": 2,
   "id": "649ff5e6",
   "metadata": {},
   "outputs": [],
   "source": [
    "def Kron(i,j):\n",
    "    if i==j:\n",
    "        return 1\n",
    "    else:\n",
    "        return 0"
   ]
  },
  {
   "cell_type": "code",
   "execution_count": 3,
   "id": "da921ac9",
   "metadata": {},
   "outputs": [],
   "source": [
    "def Int_T22_uniforme_en_xi(i_x,i_xi,k,vert,p_col,norm):\n",
    "    # i_x y i_xi son indices\n",
    "    if Kron(i_x,i_xi) == 1:\n",
    "        return 0\n",
    "\n",
    "    #para cuadratura de 3 puntos\n",
    "    gau_i=[-0.774597,0,0.774597] # entre -1 y 1\n",
    "    w_i=[0.555556,0.888889,0.555556]\n",
    "\n",
    "    b = vert[i_xi+1,0]\n",
    "    a = vert[i_xi,0]\n",
    "    xi_X_gau_i=[(b-a)/2*gau+(a+b)/2 for gau in gau_i]\n",
    "\n",
    "    b = vert[i_xi+1,1]\n",
    "    a = vert[i_xi,1]\n",
    "    xi_Z_gau_i=[(b-a)/2*gau+(a+b)/2 for gau in gau_i]\n",
    "\n",
    "    Xi_gau=[[xi_X_gau_i[i],xi_Z_gau_i[i]] for i in range(len(gau_i))]\n",
    "    Xi_gau=np.array(Xi_gau)\n",
    "\n",
    "\n",
    "    L = sh.r(vert[i_xi,:],vert[i_xi+1,:])\n",
    "    # xi tiene los vertices del segmento\n",
    "    Int=0+0j\n",
    "    for i in range(len(gau_i)):\n",
    "        Int += L/2 * w_i[i]*sh.T22(k,p_col[i_x,:],Xi_gau[i,:],norm[i_x,:])\n",
    "    return Int"
   ]
  }
 ],
 "metadata": {
  "kernelspec": {
   "display_name": "Python 3 (ipykernel)",
   "language": "python",
   "name": "python3"
  },
  "language_info": {
   "codemirror_mode": {
    "name": "ipython",
    "version": 3
   },
   "file_extension": ".py",
   "mimetype": "text/x-python",
   "name": "python",
   "nbconvert_exporter": "python",
   "pygments_lexer": "ipython3",
   "version": "3.9.12"
  }
 },
 "nbformat": 4,
 "nbformat_minor": 5
}
