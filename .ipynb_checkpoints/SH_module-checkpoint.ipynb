{
 "cells": [
  {
   "cell_type": "code",
   "execution_count": 1,
   "id": "e8c84cae",
   "metadata": {},
   "outputs": [],
   "source": [
    "import scipy.special as scis\n",
    "import numpy as np\n",
    "from statistics import mean\n",
    "from numpy import linalg as la"
   ]
  },
  {
   "cell_type": "code",
   "execution_count": 2,
   "id": "2114526c",
   "metadata": {},
   "outputs": [],
   "source": [
    "def r(x,xi):\n",
    "    if type(x)==tuple:\n",
    "        x=np.array(x)\n",
    "        xi=np.array(xi)\n",
    "        return la.norm(x-xi)\n",
    "    elif type(x)==np.ndarray:\n",
    "        return la.norm(x-xi)"
   ]
  },
  {
   "cell_type": "code",
   "execution_count": 3,
   "id": "ed40e49e",
   "metadata": {},
   "outputs": [],
   "source": [
    "def G22(k,x,xi,beta,rho):\n",
    "    r = r_(x,xi)\n",
    "    return 1/(1j*4*rho) * scis.hankel2(0,k*r)/beta**2"
   ]
  },
  {
   "cell_type": "code",
   "execution_count": 4,
   "id": "11c9b6db",
   "metadata": {},
   "outputs": [],
   "source": [
    "def T22(k,x,xi,ni):\n",
    "    r = r_(x,xi)\n",
    "    D = k*r * scis.hankel2(1,k*r)\n",
    "    return 1j/(4*r) * D * gam_k__n_k(x,xi,ni)"
   ]
  },
  {
   "cell_type": "code",
   "execution_count": 5,
   "id": "23ee471a",
   "metadata": {},
   "outputs": [],
   "source": [
    "def gam_k__n_k(x,xi,ni):\n",
    "    r = r_(x,xi)\n",
    "    return (x[0]-xi[0])/r * ni[0] + (x[1]-xi[1])/r * ni[1]"
   ]
  }
 ],
 "metadata": {
  "kernelspec": {
   "display_name": "Python 3 (ipykernel)",
   "language": "python",
   "name": "python3"
  },
  "language_info": {
   "codemirror_mode": {
    "name": "ipython",
    "version": 3
   },
   "file_extension": ".py",
   "mimetype": "text/x-python",
   "name": "python",
   "nbconvert_exporter": "python",
   "pygments_lexer": "ipython3",
   "version": "3.9.12"
  }
 },
 "nbformat": 4,
 "nbformat_minor": 5
}
