{
 "cells": [
  {
   "cell_type": "code",
   "execution_count": 1,
   "id": "50e9e2e6",
   "metadata": {},
   "outputs": [],
   "source": [
    "import scipy.special as scis\n",
    "import numpy as np\n",
    "from statistics import mean\n",
    "from numpy import linalg as la\n",
    "from matplotlib import pyplot as plt\n",
    "from math import pi,exp\n",
    "from math import sqrt as sq"
   ]
  },
  {
   "cell_type": "code",
   "execution_count": 2,
   "id": "4b51c606",
   "metadata": {},
   "outputs": [],
   "source": [
    "from numba import jit"
   ]
  },
  {
   "cell_type": "code",
   "execution_count": 3,
   "id": "81f91230",
   "metadata": {},
   "outputs": [],
   "source": [
    "def T22(k,x,xi,ni):\n",
    "    r_ = la.norm(x-xi)\n",
    "    D = k*r_ * scis.hankel2(1,k*r_)\n",
    "    return 1j/(4*r_) * D * gam_k__n_k(x,xi,ni)"
   ]
  },
  {
   "cell_type": "code",
   "execution_count": 4,
   "id": "f2e067de",
   "metadata": {},
   "outputs": [],
   "source": [
    "def G22(k,x,xi,beta,rho):\n",
    "    r_ = la.norm(x-xi)\n",
    "    return 1/(1j*4*rho) * scis.hankel2(0,k*r_)/beta**2"
   ]
  },
  {
   "cell_type": "code",
   "execution_count": 5,
   "id": "6be9ee7a",
   "metadata": {},
   "outputs": [],
   "source": [
    "def gam_k__n_k(x,xi,ni):\n",
    "    r_ = la.norm(x-xi)\n",
    "    return (x[0]-xi[0])/r_ * ni[0] + (x[1]-xi[1])/r_ * ni[1]"
   ]
  },
  {
   "cell_type": "code",
   "execution_count": 6,
   "id": "566c9157",
   "metadata": {},
   "outputs": [],
   "source": [
    "T= 10 # seg\n",
    "N= 256 # armonicos\n",
    "dt=0.01\n",
    "f0=1/T\n",
    "fmax=1/(2*dt)\n",
    "df=1/(N*dt)\n",
    "frec=np.r_[f0:fmax:df]"
   ]
  },
  {
   "cell_type": "code",
   "execution_count": 7,
   "id": "85b74491",
   "metadata": {},
   "outputs": [],
   "source": [
    "w = 2*pi*frec # rad/s\n",
    "beta = 2500 # km/s"
   ]
  },
  {
   "cell_type": "code",
   "execution_count": 8,
   "id": "a47d1e76",
   "metadata": {},
   "outputs": [],
   "source": [
    "lambds = beta/frec # long de onda en kilometros\n",
    "ks = w / beta # 1/km\n",
    "rho = 2500\n",
    "mus = beta**2 * rho # 2nd Lame constant"
   ]
  },
  {
   "cell_type": "code",
   "execution_count": 9,
   "id": "d8119f78",
   "metadata": {},
   "outputs": [],
   "source": [
    "dxs=lambds/16"
   ]
  },
  {
   "cell_type": "code",
   "execution_count": 10,
   "id": "6e397e6b",
   "metadata": {},
   "outputs": [],
   "source": [
    "# fuente puntual (antiplana) en\n",
    "XI = np.array([5000.0,-5.0])\n",
    "# receptor \n",
    "XX =  np.array([5000.0,-2.5])"
   ]
  },
  {
   "cell_type": "code",
   "execution_count": 11,
   "id": "bb7b4b3a",
   "metadata": {},
   "outputs": [],
   "source": [
    "L=10000;\n",
    "chunks=np.round(L/dxs).astype(int)"
   ]
  },
  {
   "cell_type": "code",
   "execution_count": 12,
   "id": "a5dd2e9e",
   "metadata": {},
   "outputs": [],
   "source": [
    "def malla(chunk):\n",
    "    vert=np.zeros((chunk,2))\n",
    "    vert[:,0]=np.linspace(0,L,chunk)\n",
    "    xis=0.5*(vert[1:]+vert[:-1])\n",
    "    a=vert[1:]-vert[:-1]\n",
    "    norms=la.norm(a,axis=1)\n",
    "    nu=np.zeros_like(a)\n",
    "    nu[:,0]=-a[:,1]/norms\n",
    "    nu[:,1]=a[:,0]/norms\n",
    "    return vert,xis,nu"
   ]
  },
  {
   "cell_type": "code",
   "execution_count": 13,
   "id": "dafe250c",
   "metadata": {},
   "outputs": [],
   "source": [
    "def Int_T22_uniforme_en_xi(n,l,k,vert,xis,norm):\n",
    "    if n==l:\n",
    "        return 0.0\n",
    "    \n",
    "    gau_i=[-0.774597,0,0.774597]\n",
    "    w_i=[0.555556,0.888889,0.555556]\n",
    "    \n",
    "    b=vert[l,0];a=vert[l+1,0]; \n",
    "    xi_x_gau=[(b-a)/2*gau+(a+b)/2 for gau in gau_i]\n",
    "    \n",
    "    b=vert[l,1];a=vert[l+1,1]; \n",
    "    xi_z_gau=[(b-a)/2*gau+(a+b)/2 for gau in gau_i]\n",
    "    \n",
    "    Xi_gau=[[xi_x_gau[i],xi_z_gau[i]] for i in range(len(gau_i))]\n",
    "    Xi_gau=np.array(Xi_gau)\n",
    "    \n",
    "    L=la.norm(vert[l]-vert[n])\n",
    "    Int=0.0\n",
    "    for i in range(len(gau_i)):\n",
    "        Int += L/2 * w_i[i]*T22(k,xis[n],Xi_gau[i],norm[n])\n",
    "    return Int"
   ]
  },
  {
   "cell_type": "code",
   "execution_count": 14,
   "id": "d2aa1e75",
   "metadata": {},
   "outputs": [],
   "source": [
    "def Solver(k,vert,xis,nu):\n",
    "    # para cada punto de colocacion (renglon)\n",
    "    #, la integral de las fuentes sobre la superficie\n",
    "    Mat=np.zeros([len(xis),len(xis)])\n",
    "    Mat = Mat + 0j*Mat\n",
    "    for n in range(len(xis)):\n",
    "        for l in range(len(xis)):\n",
    "            if n==l:\n",
    "                Mat[n,l]=0.5+0j\n",
    "            else:\n",
    "                Mat[n,l]=Int_T22_uniforme_en_xi(n,l,k,vert,xis,nu)\n",
    "                \n",
    "                \n",
    "    # fuente\n",
    "    Fue=np.zeros([len(xis),1])\n",
    "    Fue = Fue + 0j*Fue\n",
    "    for l in range(len(xis)):\n",
    "        Fue[l]=T22(k, xis[l], XI, nu[l])\n",
    "        \n",
    "    # encontrar amplitudes phi de la densidad de fuerza: phi dS\n",
    "    phi = np.linalg.solve(Mat,-Fue)\n",
    "    \n",
    "    return phi"
   ]
  },
  {
   "cell_type": "code",
   "execution_count": 15,
   "id": "43e7fa96",
   "metadata": {},
   "outputs": [],
   "source": [
    "def Desplazamiento_Por_frec(data):\n",
    "    k,vert,xis,nu,XX,beta,rho=data\n",
    "    phi=Solver(k,vert,xis,nu)\n",
    "    V = G22(k,XX,XI,beta,rho)\n",
    "    for i_xi in range(len(xis)):\n",
    "        V+=phi[i_xi]*G22(k,XX,xis[i_xi,:],beta,rho)\n",
    "\n",
    "    #print(f\"En {XX}, V = {V}\")"
   ]
  },
  {
   "cell_type": "code",
   "execution_count": 16,
   "id": "edcfe9b3",
   "metadata": {},
   "outputs": [],
   "source": [
    "@jit(fastmath=True,forceobj=True)\n",
    "def IBEM(chunks,ks):\n",
    "    espectro=[]\n",
    "    for Iele in range(len(ks)):\n",
    "        vert,xis,nu=malla(chunks[Iele])\n",
    "        datos=(ks[Iele],vert,xis,nu,XX,beta,rho)\n",
    "        espectro.append(Desplazamiento_Por_frec(datos))\n",
    "        \n",
    "    return espectro"
   ]
  },
  {
   "cell_type": "code",
   "execution_count": null,
   "id": "37a0ee63",
   "metadata": {},
   "outputs": [],
   "source": [
    "sp=IBEM(chunks,ks)\n",
    "sp"
   ]
  },
  {
   "cell_type": "code",
   "execution_count": null,
   "id": "d805379c",
   "metadata": {},
   "outputs": [],
   "source": []
  }
 ],
 "metadata": {
  "kernelspec": {
   "display_name": "Python 3 (ipykernel)",
   "language": "python",
   "name": "python3"
  },
  "language_info": {
   "codemirror_mode": {
    "name": "ipython",
    "version": 3
   },
   "file_extension": ".py",
   "mimetype": "text/x-python",
   "name": "python",
   "nbconvert_exporter": "python",
   "pygments_lexer": "ipython3",
   "version": "3.9.12"
  }
 },
 "nbformat": 4,
 "nbformat_minor": 5
}
