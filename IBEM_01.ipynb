{
  "nbformat": 4,
  "nbformat_minor": 0,
  "metadata": {
    "colab": {
      "provenance": []
    },
    "kernelspec": {
      "name": "python3",
      "display_name": "Python 3"
    },
    "language_info": {
      "name": "python"
    }
  },
  "cells": [
    {
      "cell_type": "markdown",
      "source": [
        "# Revisión de artículo *Diffraction od P, SV and Rayleigh waves by topographic features: A boundary integral formulation* de Sanchez Sesma (1991)\n",
        "\n",
        "## Genaralidades\n",
        "El método se basa en la representación integral de campos elásticos difractados en términos de una capa (derivado de Somigliana).\n",
        "\n",
        "La introducción de condiciones de frontera lleva a la ecuación integral para una fuente colocada en los límites del modelo. El esquema de discretización se basa en la integración numérica y analítica de funciones de Green para desplazamiento y tracciones.\n",
        "\n",
        "## Representación Integral\n",
        "Se parte de establecer una hipótesis geométrica que considera un dominio delimitado y la ecuación de movimiento en términos de desplazamiento que caracteriza al dominio:\n",
        "\n",
        "\\begin{equation}\n",
        "    \\frac{\\partial \\sigma_{ij}}{\\partial x_j}+f_i=\\rho \\frac{\\partial^2 u_i }{\\partial t^2},\n",
        "\\end{equation}\n",
        "\n",
        "\n",
        "El problema implica establecer reciprocidad entre dos campos de desplazamiento, por lo que se tiene a la ecuación de movimiento para un campo $u$ y un campo $v$. Aplicar la identidad de reciprocidad, implica operar al campo $u$ sobre el campo $v$ y viceversa\n",
        "\n",
        "\\begin{align}\n",
        "    v_i\\left( \\frac{\\partial \\sigma^u_{ij}}{\\partial x_j}+f_i-\\rho \\frac{\\partial^2 u_i }{\\partial t^2} \\right) & \\hspace{2cm}\\quad\\text{y} & u_i\\left(\\frac{\\partial \\sigma^v_{ij}}{\\partial x_j}+h_i-\\rho \\frac{\\partial^2 v_i }{\\partial t^2}\\right).\n",
        "\\end{align}\n",
        "\n",
        "Las expresiones anteriores se unen y se integran sobre el dominio geométrico y se llega a:\n",
        "\n",
        "\\begin{equation}\n",
        "    \\int_{\\Omega} \\left( v_i\\frac{\\partial \\sigma^u_{ij}}{\\partial x_j}-u_i\\frac{\\partial \\sigma^v_{ij}}{\\partial x_j} \\right)d\\Omega +\\int_{\\Omega}(v_i f_i-u_i g_i)d\\Omega+\\rho \\int_{\\Omega}\\left( u_i \\frac{\\partial^2 v_i}{\\partial t^2}-v_i \\frac{\\partial^2 u_i}{\\partial t^2} \\right)d\\Omega=0.\n",
        "\\end{equation}\n",
        "\n",
        "La primera integral de la expresión anterior, se integra por partes:\n",
        "\n",
        "\\begin{equation*}\n",
        "    \\int_{\\Omega} \\left( v_i\\frac{\\partial \\sigma^u_{ij}}{\\partial x_j}-u_i\\frac{\\partial \\sigma^v_{ij}}{\\partial x_j} \\right)d\\Omega=-\\int_{\\Omega}\\frac{\\partial v_i}{\\partial x_j}\\sigma^u_{ij}d\\Omega+\\oint_{\\Gamma}v_i \\sigma^u_{ij}n_j d\\Gamma + \\int_{\\Omega}\\frac{\\partial u_i}{\\partial x_j} \\sigma^v_{ij}d\\Omega-\\oint_{\\Gamma}u_i\\sigma^v_{ij}n_j d\\Gamma,\n",
        "\\end{equation*}\n",
        "\n",
        "de este desarrollo se identifica el concepto de tracción $T_i=\\sigma_{ij}n_j$ en las integrales de línea.\n",
        "\n"
      ],
      "metadata": {
        "id": "-CKaFpbfJCWG"
      }
    }
  ]
}