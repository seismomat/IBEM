{
 "cells": [
  {
   "cell_type": "code",
   "execution_count": 1,
   "id": "e6e2906d",
   "metadata": {},
   "outputs": [],
   "source": [
    "import scipy.special as scis\n",
    "import numpy as np\n",
    "from statistics import mean\n",
    "from numpy import linalg as la\n",
    "from matplotlib import pyplot as plt\n",
    "from math import pi,exp\n",
    "from math import sqrt as sq"
   ]
  },
  {
   "cell_type": "code",
   "execution_count": 2,
   "id": "b659bf1a",
   "metadata": {},
   "outputs": [],
   "source": [
    "def T22(k,x,xi,ni):\n",
    "    r_ = la.norm(x-xi)\n",
    "    D = k*r_ * scis.hankel2(1,k*r_)\n",
    "    return 1j/(4*r_) * D * gam_k__n_k(x,xi,ni)"
   ]
  },
  {
   "cell_type": "code",
   "execution_count": 3,
   "id": "3583f79f",
   "metadata": {},
   "outputs": [],
   "source": [
    "def G22(k,x,xi,beta,rho):\n",
    "    r_ = la.norm(x-xi)\n",
    "    return 1/(1j*4*rho) * scis.hankel2(0,k*r_)/beta**2"
   ]
  },
  {
   "cell_type": "code",
   "execution_count": 4,
   "id": "e510fb7c",
   "metadata": {},
   "outputs": [],
   "source": [
    "def gam_k__n_k(x,xi,ni):\n",
    "    r_ = la.norm(x-xi)\n",
    "    return (x[0]-xi[0])/r_ * ni[0] + (x[1]-xi[1])/r_ * ni[1]"
   ]
  },
  {
   "cell_type": "code",
   "execution_count": 5,
   "id": "0621d677",
   "metadata": {},
   "outputs": [
    {
     "name": "stdout",
     "output_type": "stream",
     "text": [
      "En la frecuencia 0.5 Hz, \\lambda = 0.6 km\n"
     ]
    }
   ],
   "source": [
    "f = 0.5 # Hertz\n",
    "w = 2*pi*f # rad/s\n",
    "beta = 0.3 # km/s\n",
    "lambd = beta/f # long de onda en kilometros\n",
    "k = w / beta # 1/km\n",
    "rho = 0.3\n",
    "mu = beta**2 * rho # 2nd Lame constant\n",
    "# fuente puntual (antiplana) en\n",
    "XI = np.array([1.0,-1.0])\n",
    "# receptor \n",
    "XX =  np.array([0.5,0.0])\n",
    "print(f\"En la frecuencia {f} Hz, \\lambda = {lambd} km\")"
   ]
  },
  {
   "cell_type": "code",
   "execution_count": 6,
   "id": "4c2384b7",
   "metadata": {},
   "outputs": [],
   "source": [
    "chunk=5; L=2;\n",
    "vert=np.zeros((chunk,2))\n",
    "vert[:,0]=np.linspace(0,L,chunk)\n",
    "xis=0.5*(vert[1:]+vert[:-1])"
   ]
  },
  {
   "cell_type": "code",
   "execution_count": 7,
   "id": "8ca84e5e",
   "metadata": {},
   "outputs": [],
   "source": [
    "a=vert[1:]-vert[:-1]\n",
    "norms=la.norm(a,axis=1)\n",
    "nu=np.zeros_like(a)\n",
    "nu[:,0]=-a[:,1]/norms\n",
    "nu[:,1]=a[:,0]/norms"
   ]
  },
  {
   "cell_type": "code",
   "execution_count": 8,
   "id": "1b7583e0",
   "metadata": {},
   "outputs": [
    {
     "data": {
      "text/plain": [
       "array([[0.25, 0.  ],\n",
       "       [0.75, 0.  ],\n",
       "       [1.25, 0.  ],\n",
       "       [1.75, 0.  ]])"
      ]
     },
     "execution_count": 8,
     "metadata": {},
     "output_type": "execute_result"
    }
   ],
   "source": [
    "xis"
   ]
  },
  {
   "cell_type": "code",
   "execution_count": 9,
   "id": "736b4e5c",
   "metadata": {},
   "outputs": [],
   "source": [
    "def Int_T22_uniforme_en_xi(n,l,k,vert,xis,norm):\n",
    "    if n==l:\n",
    "        return 0.0\n",
    "    \n",
    "    gau_i=[-0.774597,0,0.774597]\n",
    "    w_i=[0.555556,0.888889,0.555556]\n",
    "    \n",
    "    b=vert[l,0];a=vert[l+1,0]; \n",
    "    xi_x_gau=[(b-a)/2*gau+(a+b)/2 for gau in gau_i]\n",
    "    \n",
    "    b=vert[l,1];a=vert[l+1,1]; \n",
    "    xi_z_gau=[(b-a)/2*gau+(a+b)/2 for gau in gau_i]\n",
    "    \n",
    "    Xi_gau=[[xi_x_gau[i],xi_z_gau[i]] for i in range(len(gau_i))]\n",
    "    Xi_gau=np.array(Xi_gau)\n",
    "    \n",
    "    L=la.norm(vert[l]-vert[n])\n",
    "    Int=0.0\n",
    "    for i in range(len(gau_i)):\n",
    "        Int += L/2 * w_i[i]*T22(k,xis[n],Xi_gau[i],norm[n])\n",
    "    return Int"
   ]
  },
  {
   "cell_type": "code",
   "execution_count": 10,
   "id": "1c41bf8c",
   "metadata": {},
   "outputs": [
    {
     "data": {
      "text/plain": [
       "array([[0.+0.j, 0.+0.j, 0.+0.j, 0.+0.j],\n",
       "       [0.+0.j, 0.+0.j, 0.+0.j, 0.+0.j],\n",
       "       [0.+0.j, 0.+0.j, 0.+0.j, 0.+0.j],\n",
       "       [0.+0.j, 0.+0.j, 0.+0.j, 0.+0.j]])"
      ]
     },
     "execution_count": 10,
     "metadata": {},
     "output_type": "execute_result"
    }
   ],
   "source": [
    "# para cada punto de colocacion (renglon), la integral de las fuentes sobre la superficie\n",
    "Mat=np.zeros([len(xis),len(xis)])\n",
    "Mat = Mat + 0j*Mat\n",
    "Mat"
   ]
  },
  {
   "cell_type": "code",
   "execution_count": 11,
   "id": "8cb6d7e7",
   "metadata": {},
   "outputs": [
    {
     "name": "stdout",
     "output_type": "stream",
     "text": [
      "A de tamaño (4, 4)\n"
     ]
    }
   ],
   "source": [
    "print(f\"A de tamaño {Mat.shape}\")\n",
    "for n in range(len(xis)):\n",
    "    for l in range(len(xis)):\n",
    "        if n==l:\n",
    "            Mat[n,l]=0.5+0j\n",
    "        else:\n",
    "            Mat[n,l]=Int_T22_uniforme_en_xi(n,l,k,vert,xis,nu)"
   ]
  },
  {
   "cell_type": "code",
   "execution_count": 12,
   "id": "c554e7d4",
   "metadata": {},
   "outputs": [
    {
     "data": {
      "text/plain": [
       "array([[0.5+0.j, 0. +0.j, 0. +0.j, 0. +0.j],\n",
       "       [0. +0.j, 0.5+0.j, 0. +0.j, 0. +0.j],\n",
       "       [0. +0.j, 0. +0.j, 0.5+0.j, 0. +0.j],\n",
       "       [0. +0.j, 0. +0.j, 0. +0.j, 0.5+0.j]])"
      ]
     },
     "execution_count": 12,
     "metadata": {},
     "output_type": "execute_result"
    }
   ],
   "source": [
    "Mat"
   ]
  },
  {
   "cell_type": "code",
   "execution_count": 13,
   "id": "df0a46d3",
   "metadata": {},
   "outputs": [
    {
     "name": "stdout",
     "output_type": "stream",
     "text": [
      "B de tamaño (4, 1)\n"
     ]
    }
   ],
   "source": [
    "# fuente\n",
    "Fue=np.zeros([len(xis),1])\n",
    "Fue = Fue + 0j*Fue\n",
    "print(f\"B de tamaño {Fue.shape}\")\n",
    "for l in range(len(xis)):\n",
    "    Fue[l]=T22(k, xis[l], XI, nu[l])"
   ]
  },
  {
   "cell_type": "code",
   "execution_count": 14,
   "id": "e204470a",
   "metadata": {},
   "outputs": [],
   "source": [
    "# encontrar amplitudes phi de la densidad de fuerza: phi dS\n",
    "phi = np.linalg.solve(Mat,-Fue)"
   ]
  },
  {
   "cell_type": "code",
   "execution_count": 15,
   "id": "a1d82bab",
   "metadata": {},
   "outputs": [
    {
     "data": {
      "text/plain": [
       "[array([0.92476533]),\n",
       " array([1.23557756]),\n",
       " array([1.23557756]),\n",
       " array([0.92476533])]"
      ]
     },
     "execution_count": 15,
     "metadata": {},
     "output_type": "execute_result"
    }
   ],
   "source": [
    "FueAbs=[abs(phi[i]) for i in range(len(xis))]\n",
    "FueAbs"
   ]
  },
  {
   "cell_type": "code",
   "execution_count": 16,
   "id": "b2faf4af",
   "metadata": {},
   "outputs": [
    {
     "data": {
      "text/plain": [
       "[array([0.92476533]),\n",
       " array([1.23557756]),\n",
       " array([1.23557756]),\n",
       " array([0.92476533])]"
      ]
     },
     "execution_count": 16,
     "metadata": {},
     "output_type": "execute_result"
    }
   ],
   "source": [
    "phis=[abs(phi[i]) for i in range(len(xis))]\n",
    "phis"
   ]
  },
  {
   "cell_type": "code",
   "execution_count": 17,
   "id": "2131d428",
   "metadata": {},
   "outputs": [
    {
     "data": {
      "image/png": "[encoded data removed]",
      "text/plain": [
       "<Figure size 432x288 with 1 Axes>"
      ]
     },
     "metadata": {
      "needs_background": "light"
     },
     "output_type": "display_data"
    }
   ],
   "source": [
    "plt.scatter(xis[:,0],phis,color='black')\n",
    "plt.plot(XI[0],XI[1],'bD')# fuente\n",
    "plt.plot(XX[0],XX[1],'gv')# receptor\n",
    "plt.show()"
   ]
  },
  {
   "cell_type": "code",
   "execution_count": 18,
   "id": "565a7d2c",
   "metadata": {},
   "outputs": [],
   "source": [
    "# graficar phi\n",
    "phi_gX=[abs(phi[i]) * nu[i,0] for i in range(len(xis))]\n",
    "phi_gZ=[abs(phi[i]) * nu[i,1] for i in range(len(xis))]"
   ]
  },
  {
   "cell_type": "code",
   "execution_count": 19,
   "id": "33191d73",
   "metadata": {},
   "outputs": [
    {
     "data": {
      "image/png": "[encoded data removed]",
      "text/plain": [
       "<Figure size 432x288 with 1 Axes>"
      ]
     },
     "metadata": {
      "needs_background": "light"
     },
     "output_type": "display_data"
    }
   ],
   "source": [
    "plt.scatter(xis[:,0],phi_gZ,color='black')\n",
    "plt.plot(XI[0],XI[1],'bD')# fuente\n",
    "plt.plot(XX[0],XX[1],'gv')# receptor\n",
    "plt.show()"
   ]
  },
  {
   "cell_type": "code",
   "execution_count": 20,
   "id": "3a742d1a",
   "metadata": {},
   "outputs": [
    {
     "name": "stdout",
     "output_type": "stream",
     "text": [
      "En [0.5 0. ], V = [5.82917123-5.10235325j]\n"
     ]
    }
   ],
   "source": [
    "# ahora para construir la solucion en un observador cualquiera se hace\n",
    "\n",
    "V = G22(k,XX,XI,beta,rho)\n",
    "for i_xi in range(len(xis)):\n",
    "    V+=phi[i_xi]*G22(k,XX,xis[i_xi,:],beta,rho)\n",
    "\n",
    "print(f\"En {XX}, V = {V}\")"
   ]
  },
  {
   "cell_type": "code",
   "execution_count": null,
   "id": "0651edb7",
   "metadata": {},
   "outputs": [],
   "source": []
  }
 ],
 "metadata": {
  "kernelspec": {
   "display_name": "Python 3 (ipykernel)",
   "language": "python",
   "name": "python3"
  },
  "language_info": {
   "codemirror_mode": {
    "name": "ipython",
    "version": 3
   },
   "file_extension": ".py",
   "mimetype": "text/x-python",
   "name": "python",
   "nbconvert_exporter": "python",
   "pygments_lexer": "ipython3",
   "version": "3.9.12"
  }
 },
 "nbformat": 4,
 "nbformat_minor": 5
}
