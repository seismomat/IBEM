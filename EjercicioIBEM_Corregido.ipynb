{
  "nbformat": 4,
  "nbformat_minor": 0,
  "metadata": {
    "colab": {
      "provenance": [],
      "authorship_tag": "ABX9TyMqhmD2BIBTPFzU8jQEG7O9",
      "include_colab_link": true
    },
    "kernelspec": {
      "name": "python3",
      "display_name": "Python 3"
    },
    "language_info": {
      "name": "python"
    }
  },
  "cells": [
    {
      "cell_type": "markdown",
      "metadata": {
        "id": "view-in-github",
        "colab_type": "text"
      },
      "source": [
        "<a href=\"https://colab.research.google.com/github/seismomat/IBEM/blob/Lili/EjercicioIBEM_Corregido.ipynb\" target=\"_parent\"><img src=\"https://colab.research.google.com/assets/colab-badge.svg\" alt=\"Open In Colab\"/></a>"
      ]
    },
    {
      "cell_type": "code",
      "execution_count": 1,
      "metadata": {
        "id": "xjSX00D7EVmg"
      },
      "outputs": [],
      "source": [
        "import math\n",
        "import numpy as np\n",
        "import matplotlib.pyplot as plt\n",
        "from numpy import linalg as la\n",
        "import scipy.special as scis"
      ]
    },
    {
      "cell_type": "code",
      "source": [
        "#Definición de parámetros del problema:\n",
        "f = 0.5 # Hertz\n",
        "w = 2*np.pi*f # rad/s\n",
        "beta = 0.3 # km/s\n",
        "lambd = beta/f # long de onda en kilometros\n",
        "k = w / beta # 1/km\n",
        "\n",
        "#División de segmentos:\n",
        "ns=3 #número de segmentos\n",
        "x=np.linspace(0,2,ns+1)\n",
        "y=np.zeros(ns+1)\n",
        "\n",
        "#Puntos medios:\n",
        "dx=x[1]-x[0]\n",
        "\n",
        "xp=x+dx/2\n",
        "yp=y\n",
        "\n",
        "#Receptor:\n",
        "xx=2.5\n",
        "yy=0\n",
        "\n",
        "print(xp)"
      ],
      "metadata": {
        "colab": {
          "base_uri": "https://localhost:8080/"
        },
        "id": "TIR8lW1IEcAg",
        "outputId": "131ff3e8-2067-4dff-8848-3ecffcbbcc55"
      },
      "execution_count": 10,
      "outputs": [
        {
          "output_type": "stream",
          "name": "stdout",
          "text": [
            "[0.33333333 1.         1.66666667 2.33333333]\n"
          ]
        }
      ]
    },
    {
      "cell_type": "code",
      "source": [
        "#Gráfica de geometría:\n",
        "\n",
        "plt.plot(x,y,marker = '|')\n",
        "plt.plot(xp[0:ns],yp[0:ns],'o')\n",
        "#plt.plot(xx,yy,marker = 'v')\n",
        "\n",
        "plt.xlabel('Distancia x')\n",
        "\n",
        "plt.show()"
      ],
      "metadata": {
        "colab": {
          "base_uri": "https://localhost:8080/",
          "height": 449
        },
        "id": "WOUU1hFuEqP1",
        "outputId": "6fba42ee-ef7e-4c3b-8a9d-f88d37103924"
      },
      "execution_count": 11,
      "outputs": [
        {
          "output_type": "display_data",
          "data": {
            "text/plain": [
              "<Figure size 640x480 with 1 Axes>"
            ],
            "image/png": "[encoded data removed]"
          },
          "metadata": {}
        }
      ]
    },
    {
      "cell_type": "markdown",
      "source": [
        "El sistema que se va a hacer es:\n",
        "\n",
        "\\begin{equation}\n",
        "  \\begin{bmatrix}\n",
        "    t_{22}(x_1,ξ_1) & t_{22}(x_1,ξ_2) & t_{22}(x_1,ξ_{3}) \\\\\n",
        "    t_{22}(x_2,ξ_1) & t_{22}(x_2,ξ_2) & t_{22}(x_2,ξ_{3}) \\\\\n",
        "    t_{22}(x_{3},ξ_1) & t_{22}(x_{3},ξ_2) & t_{22}(x_{3},ξ_{3})\n",
        "  \\end{bmatrix}\n",
        "  \\begin{bmatrix}\n",
        "    ϕ_2(\\xi_1) \\\\\n",
        "    ϕ_2(\\xi_2) \\\\\n",
        "    ϕ_2(\\xi_{3})\n",
        "  \\end{bmatrix}\n",
        "  =\n",
        "  \\begin{bmatrix}\n",
        "    -t_2^{(0)}(x_1) \\\\\n",
        "    -t_2^{(0)}(x_2) \\\\\n",
        "    -t_2^{(0)}(x_{3})\n",
        "  \\end{bmatrix}\n",
        "\\end{equation}\n",
        "\n",
        "Cada $t_{22}$ se construye como:\n",
        "\n",
        "\\begin{equation}\n",
        "  \\int_{ξ-\\frac{(x_2-x_1)}{2}}^{ξ+\\frac{(x_2-x_1)}{2}} T_{22}(x,\\xi)dS_ξ\n",
        "\\end{equation}\n",
        "\n",
        "siendo $T_{22}$:\n",
        "\n",
        "\\begin{equation}\n",
        "  T_{22}=\\frac{i}{4r}D(kr) γ_k η_k\n",
        "\\end{equation}"
      ],
      "metadata": {
        "id": "t44ZAN40EuCG"
      }
    },
    {
      "cell_type": "code",
      "source": [
        "#FUNCIONES:\n",
        "\n",
        "def Funcion(x,xi,k):\n",
        "  r=la.norm(x-xi)\n",
        "  hank=scis.hankel2(1,k*r)\n",
        "  gamma=(x-xi)/r\n",
        "  It22=(1j/4)*(k*hank*gamma)\n",
        "  return It22\n",
        "\n",
        "def IntegralX(ix,ixi,k):\n",
        "  # Cuadratura gaussiana de 5 puntos\n",
        "  nodes = [-0.906179845938664, -0.538469310105683,0, 0.538469310105683, 0.906179845938664]\n",
        "  weights = [0.236926885056189, 0.478628670499366, 0.568888888888889, 0.478628670499366, 0.236926885056189]\n",
        "\n",
        "  #Para coordenada X:\n",
        "  # Definición de los límites de integración\n",
        "  ax = ixi[0]-((ixi[0]-ix[0])/2)  # Límite inferior\n",
        "  bx = ixi[0]+((ixi[0]-ix[0])/2)  # Límite superior\n",
        "  # Realiza la integración\n",
        "  integralX = 0\n",
        "  for i in range(len(nodes)):\n",
        "    x_i = (bx - ax) / 2 * nodes[i] + (bx + ax) / 2\n",
        "    integralX += weights[i] * Funcion(x_i,ixi,k)\n",
        "  # Escala el resultado al intervalo de integración original\n",
        "  integralX *= (bx - ax) / 2\n",
        "  return integralX\n",
        "\n",
        "def Eta(A,B):\n",
        "  AB = B - A\n",
        "  normal = np.array([AB[1], -AB[0]])\n",
        "  normal = normal / la.norm(normal)\n",
        "  return normal\n",
        "\n",
        "def Int_T22(ix,ixi,k,A,B):\n",
        "  normal=Eta(A,B)\n",
        "  resultado1=IntegralX(ix,ixi,k)\n",
        "  resultado=resultado1*normal\n",
        "  return resultado"
      ],
      "metadata": {
        "id": "49gu9rFRFVro"
      },
      "execution_count": 12,
      "outputs": []
    },
    {
      "cell_type": "code",
      "source": [
        "#Construcción de matriz de tracciones:\n",
        "\n",
        "#Variable auxiliar t22:\n",
        "t22=np.zeros((ns,ns))\n",
        "\n",
        "for renglon in range(ns):\n",
        "  for columna in range(ns):\n",
        "    #Si se encuentra en la diagonal\n",
        "    if renglon==columna:\n",
        "      t22[renglon][columna]=0.5\n",
        "    else:\n",
        "      #Puntos centrales\n",
        "      ix=np.array([xp[renglon],yp[renglon]])\n",
        "      ixi=np.array([xp[columna],yp[columna]])\n",
        "      #Para vector normal:\n",
        "      A=np.array([x[renglon],y[renglon]])\n",
        "      B=np.array([x[renglon+1],y[renglon+1]])\n",
        "      aux=Int_T22(ix,ixi,k,A,B)\n",
        "      t22[renglon][columna]=aux[1]\n",
        "\n",
        "#Falta calcular la t2 y resolver sistema\n",
        "\n",
        "print(t22)"
      ],
      "metadata": {
        "colab": {
          "base_uri": "https://localhost:8080/"
        },
        "id": "SXriFrfgEx6W",
        "outputId": "3804049e-9f9d-4aae-e111-12e8061160ee"
      },
      "execution_count": 13,
      "outputs": [
        {
          "output_type": "stream",
          "name": "stdout",
          "text": [
            "[[ 0.5        -0.01053763  0.04177149]\n",
            " [ 0.16236888  0.5        -0.01563443]\n",
            " [ 0.35281138  0.01053763  0.5       ]]\n"
          ]
        },
        {
          "output_type": "stream",
          "name": "stderr",
          "text": [
            "<ipython-input-13-2b33606efb83>:19: ComplexWarning: Casting complex values to real discards the imaginary part\n",
            "  t22[renglon][columna]=aux[1]\n"
          ]
        }
      ]
    },
    {
      "cell_type": "markdown",
      "source": [
        "Calculo de $t_2^{(0)}$:\n",
        "\n",
        "\\begin{equation}\n",
        "  T_{22}(x_1,x_R)\n",
        "\\end{equation}\n",
        "\n",
        "El vector queda como:\n",
        "\n",
        "\\begin{equation}\n",
        "  \\begin{bmatrix}\n",
        "    -T_{22}(x_1,x_R) \\\\\n",
        "    -T_{22}(x_2,x_R) \\\\\n",
        "    -T_{22}(x_{3},x_R)\n",
        "  \\end{bmatrix}\n",
        "\\end{equation}"
      ],
      "metadata": {
        "id": "uUftDqE_Eu3H"
      }
    },
    {
      "cell_type": "code",
      "source": [
        "#Variable auxiliar:\n",
        "t2=[]\n",
        "\n",
        "for i in range(ns):\n",
        "  ix=np.array([xp[i],0])\n",
        "  ixi=np.array([1,-1])\n",
        "  A=np.array([x[i],y[i]])\n",
        "  B=np.array([x[i+1],y[i+1]])\n",
        "  normal=Eta(A,B)\n",
        "  aux=-Funcion(ix,ixi,k)*normal\n",
        "  t2.append(aux[1])\n",
        "\n",
        "print(t2)"
      ],
      "metadata": {
        "colab": {
          "base_uri": "https://localhost:8080/"
        },
        "id": "DJBd4oGBE1k-",
        "outputId": "0ef62d6d-3f50-4215-fdc6-1db480207ff8"
      },
      "execution_count": 14,
      "outputs": [
        {
          "output_type": "stream",
          "name": "stdout",
          "text": [
            "[(-0.36342990212460646-0.32939057556639106j), (0.6181934715565917-0.18951673978894606j), (-0.363429902124606-0.3293905755663918j)]\n"
          ]
        }
      ]
    },
    {
      "cell_type": "code",
      "source": [
        "#Resolviendo el sistema:\n",
        "solucion = np.linalg.solve(t22, t2)\n",
        "print(len(solucion))\n",
        "print(solucion)"
      ],
      "metadata": {
        "colab": {
          "base_uri": "https://localhost:8080/"
        },
        "id": "Q0ce_yY-Fqy6",
        "outputId": "06de2a18-ee0c-4f79-851c-8d9f8202115f"
      },
      "execution_count": 15,
      "outputs": [
        {
          "output_type": "stream",
          "name": "stdout",
          "text": [
            "3\n",
            "[-0.67277433-0.64582457j  1.44602528-0.17554402j -0.28261029-0.199373j  ]\n"
          ]
        }
      ]
    },
    {
      "cell_type": "code",
      "source": [
        "#Gráfica de geometría:\n",
        "\n",
        "plt.plot(x,y,marker = '|')\n",
        "plt.plot(xp[0:ns],yp[0:ns],'o')\n",
        "#plt.plot(xx,yy,marker = 'v')\n",
        "plt.plot(xp[0:ns],np.real(solucion),'o')\n",
        "\n",
        "plt.xlabel('Distancia x')\n",
        "\n",
        "plt.show()"
      ],
      "metadata": {
        "colab": {
          "base_uri": "https://localhost:8080/",
          "height": 449
        },
        "id": "1ob24sOlFy-F",
        "outputId": "30b300dc-7859-4fb2-ecd0-f678900776b2"
      },
      "execution_count": 18,
      "outputs": [
        {
          "output_type": "display_data",
          "data": {
            "text/plain": [
              "<Figure size 640x480 with 1 Axes>"
            ],
            "image/png": "[encoded data removed]"
          },
          "metadata": {}
        }
      ]
    }
  ]
}